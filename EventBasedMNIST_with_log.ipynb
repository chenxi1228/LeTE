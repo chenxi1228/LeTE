{
 "cells": [
  {
   "cell_type": "code",
   "execution_count": 1,
   "id": "initial_id",
   "metadata": {
    "ExecuteTime": {
     "end_time": "2025-03-25T09:27:44.892048Z",
     "start_time": "2025-03-25T09:27:40.311166Z"
    }
   },
   "outputs": [],
   "source": [
    "import torch\n",
    "import torch.nn as nn\n",
    "import torch.optim as optim\n",
    "from torch.utils.data import Dataset, DataLoader\n",
    "from torchvision import datasets, transforms\n",
    "from torch.nn.utils.rnn import pad_sequence, pack_padded_sequence\n",
    "import csv\n",
    "import os\n",
    "from tqdm import tqdm\n",
    "from LeTE import CombinedLeTE\n",
    "\n",
    "class EventBasedMNIST(Dataset):\n",
    "    def __init__(self, root, train=True, threshold=0.9, transform=None, download=True):\n",
    "        self.root = root\n",
    "        self.train = train\n",
    "        self.threshold = threshold\n",
    "        self.transform = transform\n",
    "        \n",
    "        self.data = datasets.MNIST(root=self.root, train=self.train, transform=self.transform, download=download)\n",
    "        self.event_data = []\n",
    "        self.labels = []\n",
    "        for img, label in self.data:\n",
    "            img_flat = img.view(-1)  # (784,)\n",
    "            events = torch.nonzero(img_flat > self.threshold).squeeze()\n",
    "            events = torch.sort(events).values\n",
    "            self.event_data.append(events)\n",
    "            self.labels.append(label)\n",
    "    \n",
    "    def __len__(self):\n",
    "        return len(self.event_data)\n",
    "    \n",
    "    def __getitem__(self, idx):\n",
    "        return self.event_data[idx], self.labels[idx]\n",
    "\n",
    "def custom_collate_fn(batch):\n",
    "    events_list = []\n",
    "    labels_list = []\n",
    "    lengths = []\n",
    "    for events, label in batch:\n",
    "        events_list.append(events)\n",
    "        labels_list.append(label)\n",
    "        lengths.append(events.shape[0])\n",
    "    labels_tensor = torch.tensor(labels_list, dtype=torch.long)\n",
    "    padded_events = pad_sequence(events_list, batch_first=True, padding_value=0)  # (batch, max_len)\n",
    "    lengths = torch.tensor(lengths, dtype=torch.long)\n",
    "    return padded_events, lengths, labels_tensor\n",
    "\n",
    "class LSTMClassifier(nn.Module):\n",
    "    def __init__(self, input_size=784, embedding_dim=32, hidden_dim=128, num_classes=10):\n",
    "        super(LSTMClassifier, self).__init__()\n",
    "        self.lstm = nn.LSTM(input_size=embedding_dim, hidden_size=hidden_dim, batch_first=True)\n",
    "        self.fc = nn.Linear(hidden_dim, num_classes)\n",
    "        \n",
    "        # Init LeTE\n",
    "        self.time_encoder = CombinedLeTE(embedding_dim, p=0.5)\n",
    "        \n",
    "    def forward(self, x, lengths):\n",
    "        embedded = self.time_encoder(x)  # (batch, seq_len, embedding_dim)\n",
    "        packed = pack_padded_sequence(embedded, lengths.cpu(), batch_first=True, enforce_sorted=False)\n",
    "        _, (h_n, c_n) = self.lstm(packed)\n",
    "        h_n = h_n[-1]  # (batch, hidden_dim)\n",
    "        out = self.fc(h_n)  # (batch, num_classes)\n",
    "        return out\n",
    "\n",
    "def evaluate(model, data_loader, device, criterion):\n",
    "    model.eval()\n",
    "    total_loss = 0.0\n",
    "    total_correct = 0\n",
    "    total_samples = 0\n",
    "    with torch.no_grad():\n",
    "        for padded_events, lengths, labels in data_loader:\n",
    "            padded_events = padded_events.float().to(device)\n",
    "            lengths = lengths.to(device)\n",
    "            labels = labels.to(device)\n",
    "            outputs = model(padded_events, lengths)\n",
    "            loss = criterion(outputs, labels)\n",
    "\n",
    "            total_loss += loss.item() * labels.size(0)\n",
    "            preds = outputs.argmax(dim=1)\n",
    "            total_correct += (preds == labels).sum().item()\n",
    "            total_samples += labels.size(0)\n",
    "    avg_loss = total_loss / total_samples\n",
    "    acc = total_correct / total_samples\n",
    "    return avg_loss, acc\n"
   ]
  },
  {
   "cell_type": "code",
   "execution_count": 2,
   "id": "2055c73f8be821f5",
   "metadata": {
    "ExecuteTime": {
     "end_time": "2025-03-25T09:28:03.857784Z",
     "start_time": "2025-03-25T09:27:47.655944Z"
    }
   },
   "outputs": [
    {
     "name": "stdout",
     "output_type": "stream",
     "text": [
      "Downloading http://yann.lecun.com/exdb/mnist/train-images-idx3-ubyte.gz\n",
      "Failed to download (trying next):\n",
      "HTTP Error 404: Not Found\n",
      "\n",
      "Downloading https://ossci-datasets.s3.amazonaws.com/mnist/train-images-idx3-ubyte.gz\n",
      "Downloading https://ossci-datasets.s3.amazonaws.com/mnist/train-images-idx3-ubyte.gz to ./data/MNIST/raw/train-images-idx3-ubyte.gz\n"
     ]
    },
    {
     "name": "stderr",
     "output_type": "stream",
     "text": [
      "100%|██████████| 9912422/9912422 [00:02<00:00, 3549931.79it/s]\n"
     ]
    },
    {
     "name": "stdout",
     "output_type": "stream",
     "text": [
      "Extracting ./data/MNIST/raw/train-images-idx3-ubyte.gz to ./data/MNIST/raw\n",
      "\n",
      "Downloading http://yann.lecun.com/exdb/mnist/train-labels-idx1-ubyte.gz\n",
      "Failed to download (trying next):\n",
      "HTTP Error 404: Not Found\n",
      "\n",
      "Downloading https://ossci-datasets.s3.amazonaws.com/mnist/train-labels-idx1-ubyte.gz\n",
      "Downloading https://ossci-datasets.s3.amazonaws.com/mnist/train-labels-idx1-ubyte.gz to ./data/MNIST/raw/train-labels-idx1-ubyte.gz\n"
     ]
    },
    {
     "name": "stderr",
     "output_type": "stream",
     "text": [
      "100%|██████████| 28881/28881 [00:00<00:00, 113824.73it/s]\n"
     ]
    },
    {
     "name": "stdout",
     "output_type": "stream",
     "text": [
      "Extracting ./data/MNIST/raw/train-labels-idx1-ubyte.gz to ./data/MNIST/raw\n",
      "\n",
      "Downloading http://yann.lecun.com/exdb/mnist/t10k-images-idx3-ubyte.gz\n",
      "Failed to download (trying next):\n",
      "HTTP Error 404: Not Found\n",
      "\n",
      "Downloading https://ossci-datasets.s3.amazonaws.com/mnist/t10k-images-idx3-ubyte.gz\n",
      "Downloading https://ossci-datasets.s3.amazonaws.com/mnist/t10k-images-idx3-ubyte.gz to ./data/MNIST/raw/t10k-images-idx3-ubyte.gz\n"
     ]
    },
    {
     "name": "stderr",
     "output_type": "stream",
     "text": [
      "100%|██████████| 1648877/1648877 [00:01<00:00, 1090398.79it/s]\n"
     ]
    },
    {
     "name": "stdout",
     "output_type": "stream",
     "text": [
      "Extracting ./data/MNIST/raw/t10k-images-idx3-ubyte.gz to ./data/MNIST/raw\n",
      "\n",
      "Downloading http://yann.lecun.com/exdb/mnist/t10k-labels-idx1-ubyte.gz\n",
      "Failed to download (trying next):\n",
      "HTTP Error 404: Not Found\n",
      "\n",
      "Downloading https://ossci-datasets.s3.amazonaws.com/mnist/t10k-labels-idx1-ubyte.gz\n",
      "Downloading https://ossci-datasets.s3.amazonaws.com/mnist/t10k-labels-idx1-ubyte.gz to ./data/MNIST/raw/t10k-labels-idx1-ubyte.gz\n"
     ]
    },
    {
     "name": "stderr",
     "output_type": "stream",
     "text": [
      "100%|██████████| 4542/4542 [00:00<00:00, 1763774.54it/s]\n"
     ]
    },
    {
     "name": "stdout",
     "output_type": "stream",
     "text": [
      "Extracting ./data/MNIST/raw/t10k-labels-idx1-ubyte.gz to ./data/MNIST/raw\n",
      "\n"
     ]
    }
   ],
   "source": [
    "transform = transforms.ToTensor()\n",
    "train_dataset = EventBasedMNIST(root=\"./data\", train=True, threshold=0.9, transform=transform, download=True)\n",
    "test_dataset = EventBasedMNIST(root=\"./data\", train=False, threshold=0.9, transform=transform, download=True)\n",
    "\n",
    "train_loader = DataLoader(train_dataset, batch_size=512, shuffle=True, collate_fn=custom_collate_fn)\n",
    "test_loader = DataLoader(test_dataset, batch_size=512, shuffle=False, collate_fn=custom_collate_fn)"
   ]
  },
  {
   "cell_type": "code",
   "execution_count": 4,
   "id": "f8df6c578be8cd5e",
   "metadata": {
    "ExecuteTime": {
     "end_time": "2025-03-25T09:35:47.772564Z",
     "start_time": "2025-03-25T09:28:13.229788Z"
    }
   },
   "outputs": [
    {
     "name": "stderr",
     "output_type": "stream",
     "text": [
      "  0%|          | 0/118 [00:00<?, ?it/s]"
     ]
    },
    {
     "name": "stderr",
     "output_type": "stream",
     "text": [
      "100%|██████████| 118/118 [00:05<00:00, 20.54it/s]\n"
     ]
    },
    {
     "name": "stdout",
     "output_type": "stream",
     "text": [
      "Epoch [1/200] finished. Train Loss: 1.8162, Train Accuracy: 0.3356, Test Loss: 1.5305, Test Accuracy: 0.4351\n"
     ]
    },
    {
     "name": "stderr",
     "output_type": "stream",
     "text": [
      "100%|██████████| 118/118 [00:05<00:00, 21.01it/s]\n"
     ]
    },
    {
     "name": "stdout",
     "output_type": "stream",
     "text": [
      "Epoch [2/200] finished. Train Loss: 1.2690, Train Accuracy: 0.5540, Test Loss: 1.0777, Test Accuracy: 0.6147\n"
     ]
    },
    {
     "name": "stderr",
     "output_type": "stream",
     "text": [
      "100%|██████████| 118/118 [00:05<00:00, 20.86it/s]\n"
     ]
    },
    {
     "name": "stdout",
     "output_type": "stream",
     "text": [
      "Epoch [3/200] finished. Train Loss: 1.2228, Train Accuracy: 0.5757, Test Loss: 1.0277, Test Accuracy: 0.6453\n"
     ]
    },
    {
     "name": "stderr",
     "output_type": "stream",
     "text": [
      "100%|██████████| 118/118 [00:05<00:00, 20.99it/s]\n"
     ]
    },
    {
     "name": "stdout",
     "output_type": "stream",
     "text": [
      "Epoch [4/200] finished. Train Loss: 0.9260, Train Accuracy: 0.6816, Test Loss: 0.8416, Test Accuracy: 0.7041\n"
     ]
    },
    {
     "name": "stderr",
     "output_type": "stream",
     "text": [
      "100%|██████████| 118/118 [00:05<00:00, 20.91it/s]\n"
     ]
    },
    {
     "name": "stdout",
     "output_type": "stream",
     "text": [
      "Epoch [5/200] finished. Train Loss: 0.7779, Train Accuracy: 0.7372, Test Loss: 0.6653, Test Accuracy: 0.7754\n"
     ]
    },
    {
     "name": "stderr",
     "output_type": "stream",
     "text": [
      "100%|██████████| 118/118 [00:05<00:00, 21.06it/s]\n"
     ]
    },
    {
     "name": "stdout",
     "output_type": "stream",
     "text": [
      "Epoch [6/200] finished. Train Loss: 0.6187, Train Accuracy: 0.8017, Test Loss: 0.5336, Test Accuracy: 0.8307\n"
     ]
    },
    {
     "name": "stderr",
     "output_type": "stream",
     "text": [
      "100%|██████████| 118/118 [00:05<00:00, 20.90it/s]\n"
     ]
    },
    {
     "name": "stdout",
     "output_type": "stream",
     "text": [
      "Epoch [7/200] finished. Train Loss: 0.4883, Train Accuracy: 0.8441, Test Loss: 0.4241, Test Accuracy: 0.8639\n"
     ]
    },
    {
     "name": "stderr",
     "output_type": "stream",
     "text": [
      "100%|██████████| 118/118 [00:05<00:00, 20.85it/s]\n"
     ]
    },
    {
     "name": "stdout",
     "output_type": "stream",
     "text": [
      "Epoch [8/200] finished. Train Loss: 0.4006, Train Accuracy: 0.8728, Test Loss: 0.3607, Test Accuracy: 0.8829\n"
     ]
    },
    {
     "name": "stderr",
     "output_type": "stream",
     "text": [
      "100%|██████████| 118/118 [00:05<00:00, 21.02it/s]\n"
     ]
    },
    {
     "name": "stdout",
     "output_type": "stream",
     "text": [
      "Epoch [9/200] finished. Train Loss: 0.3218, Train Accuracy: 0.8976, Test Loss: 1.3587, Test Accuracy: 0.6241\n"
     ]
    },
    {
     "name": "stderr",
     "output_type": "stream",
     "text": [
      "100%|██████████| 118/118 [00:05<00:00, 21.08it/s]\n"
     ]
    },
    {
     "name": "stdout",
     "output_type": "stream",
     "text": [
      "Epoch [10/200] finished. Train Loss: 0.4503, Train Accuracy: 0.8586, Test Loss: 0.2662, Test Accuracy: 0.9177\n"
     ]
    },
    {
     "name": "stderr",
     "output_type": "stream",
     "text": [
      "100%|██████████| 118/118 [00:05<00:00, 21.03it/s]\n"
     ]
    },
    {
     "name": "stdout",
     "output_type": "stream",
     "text": [
      "Epoch [11/200] finished. Train Loss: 0.2781, Train Accuracy: 0.9127, Test Loss: 0.2682, Test Accuracy: 0.9156\n"
     ]
    },
    {
     "name": "stderr",
     "output_type": "stream",
     "text": [
      "100%|██████████| 118/118 [00:05<00:00, 20.90it/s]\n"
     ]
    },
    {
     "name": "stdout",
     "output_type": "stream",
     "text": [
      "Epoch [12/200] finished. Train Loss: 0.2504, Train Accuracy: 0.9211, Test Loss: 0.2127, Test Accuracy: 0.9342\n"
     ]
    },
    {
     "name": "stderr",
     "output_type": "stream",
     "text": [
      "100%|██████████| 118/118 [00:05<00:00, 20.98it/s]\n"
     ]
    },
    {
     "name": "stdout",
     "output_type": "stream",
     "text": [
      "Epoch [13/200] finished. Train Loss: 0.2171, Train Accuracy: 0.9321, Test Loss: 0.2359, Test Accuracy: 0.9273\n"
     ]
    },
    {
     "name": "stderr",
     "output_type": "stream",
     "text": [
      "100%|██████████| 118/118 [00:05<00:00, 20.85it/s]\n"
     ]
    },
    {
     "name": "stdout",
     "output_type": "stream",
     "text": [
      "Epoch [14/200] finished. Train Loss: 0.2139, Train Accuracy: 0.9330, Test Loss: 0.2231, Test Accuracy: 0.9305\n"
     ]
    },
    {
     "name": "stderr",
     "output_type": "stream",
     "text": [
      "100%|██████████| 118/118 [00:05<00:00, 20.72it/s]\n"
     ]
    },
    {
     "name": "stdout",
     "output_type": "stream",
     "text": [
      "Epoch [15/200] finished. Train Loss: 0.1874, Train Accuracy: 0.9415, Test Loss: 0.1844, Test Accuracy: 0.9445\n"
     ]
    },
    {
     "name": "stderr",
     "output_type": "stream",
     "text": [
      "100%|██████████| 118/118 [00:05<00:00, 20.91it/s]\n"
     ]
    },
    {
     "name": "stdout",
     "output_type": "stream",
     "text": [
      "Epoch [16/200] finished. Train Loss: 0.1720, Train Accuracy: 0.9465, Test Loss: 0.2080, Test Accuracy: 0.9391\n"
     ]
    },
    {
     "name": "stderr",
     "output_type": "stream",
     "text": [
      "100%|██████████| 118/118 [00:05<00:00, 20.68it/s]\n"
     ]
    },
    {
     "name": "stdout",
     "output_type": "stream",
     "text": [
      "Epoch [17/200] finished. Train Loss: 0.1733, Train Accuracy: 0.9458, Test Loss: 0.1702, Test Accuracy: 0.9481\n"
     ]
    },
    {
     "name": "stderr",
     "output_type": "stream",
     "text": [
      "100%|██████████| 118/118 [00:05<00:00, 20.74it/s]\n"
     ]
    },
    {
     "name": "stdout",
     "output_type": "stream",
     "text": [
      "Epoch [18/200] finished. Train Loss: 0.1517, Train Accuracy: 0.9533, Test Loss: 0.1729, Test Accuracy: 0.9462\n"
     ]
    },
    {
     "name": "stderr",
     "output_type": "stream",
     "text": [
      "100%|██████████| 118/118 [00:05<00:00, 20.67it/s]\n"
     ]
    },
    {
     "name": "stdout",
     "output_type": "stream",
     "text": [
      "Epoch [19/200] finished. Train Loss: 0.1481, Train Accuracy: 0.9538, Test Loss: 0.1717, Test Accuracy: 0.9483\n"
     ]
    },
    {
     "name": "stderr",
     "output_type": "stream",
     "text": [
      "100%|██████████| 118/118 [00:05<00:00, 20.65it/s]\n"
     ]
    },
    {
     "name": "stdout",
     "output_type": "stream",
     "text": [
      "Epoch [20/200] finished. Train Loss: 0.1530, Train Accuracy: 0.9522, Test Loss: 0.1561, Test Accuracy: 0.9523\n"
     ]
    },
    {
     "name": "stderr",
     "output_type": "stream",
     "text": [
      "100%|██████████| 118/118 [00:05<00:00, 20.47it/s]\n"
     ]
    },
    {
     "name": "stdout",
     "output_type": "stream",
     "text": [
      "Epoch [21/200] finished. Train Loss: 0.1379, Train Accuracy: 0.9571, Test Loss: 0.1699, Test Accuracy: 0.9494\n"
     ]
    },
    {
     "name": "stderr",
     "output_type": "stream",
     "text": [
      "100%|██████████| 118/118 [00:05<00:00, 20.83it/s]\n"
     ]
    },
    {
     "name": "stdout",
     "output_type": "stream",
     "text": [
      "Epoch [22/200] finished. Train Loss: 0.1311, Train Accuracy: 0.9591, Test Loss: 0.1726, Test Accuracy: 0.9483\n"
     ]
    },
    {
     "name": "stderr",
     "output_type": "stream",
     "text": [
      "100%|██████████| 118/118 [00:05<00:00, 20.84it/s]\n"
     ]
    },
    {
     "name": "stdout",
     "output_type": "stream",
     "text": [
      "Epoch [23/200] finished. Train Loss: 0.1243, Train Accuracy: 0.9610, Test Loss: 0.1478, Test Accuracy: 0.9557\n"
     ]
    },
    {
     "name": "stderr",
     "output_type": "stream",
     "text": [
      "100%|██████████| 118/118 [00:05<00:00, 20.75it/s]\n"
     ]
    },
    {
     "name": "stdout",
     "output_type": "stream",
     "text": [
      "Epoch [24/200] finished. Train Loss: 0.1205, Train Accuracy: 0.9624, Test Loss: 0.1522, Test Accuracy: 0.9535\n"
     ]
    },
    {
     "name": "stderr",
     "output_type": "stream",
     "text": [
      "100%|██████████| 118/118 [00:05<00:00, 20.71it/s]\n"
     ]
    },
    {
     "name": "stdout",
     "output_type": "stream",
     "text": [
      "Epoch [25/200] finished. Train Loss: 0.1164, Train Accuracy: 0.9634, Test Loss: 0.1464, Test Accuracy: 0.9571\n"
     ]
    },
    {
     "name": "stderr",
     "output_type": "stream",
     "text": [
      "100%|██████████| 118/118 [00:05<00:00, 21.50it/s]\n"
     ]
    },
    {
     "name": "stdout",
     "output_type": "stream",
     "text": [
      "Epoch [26/200] finished. Train Loss: 0.1099, Train Accuracy: 0.9656, Test Loss: 0.1316, Test Accuracy: 0.9597\n"
     ]
    },
    {
     "name": "stderr",
     "output_type": "stream",
     "text": [
      "100%|██████████| 118/118 [00:05<00:00, 20.76it/s]\n"
     ]
    },
    {
     "name": "stdout",
     "output_type": "stream",
     "text": [
      "Epoch [27/200] finished. Train Loss: 0.1055, Train Accuracy: 0.9665, Test Loss: 0.1279, Test Accuracy: 0.9616\n"
     ]
    },
    {
     "name": "stderr",
     "output_type": "stream",
     "text": [
      "100%|██████████| 118/118 [00:05<00:00, 20.80it/s]\n"
     ]
    },
    {
     "name": "stdout",
     "output_type": "stream",
     "text": [
      "Epoch [28/200] finished. Train Loss: 0.1056, Train Accuracy: 0.9670, Test Loss: 0.1238, Test Accuracy: 0.9615\n"
     ]
    },
    {
     "name": "stderr",
     "output_type": "stream",
     "text": [
      "100%|██████████| 118/118 [00:05<00:00, 20.84it/s]\n"
     ]
    },
    {
     "name": "stdout",
     "output_type": "stream",
     "text": [
      "Epoch [29/200] finished. Train Loss: 0.1033, Train Accuracy: 0.9671, Test Loss: 0.1804, Test Accuracy: 0.9489\n"
     ]
    },
    {
     "name": "stderr",
     "output_type": "stream",
     "text": [
      "100%|██████████| 118/118 [00:04<00:00, 25.46it/s]\n"
     ]
    },
    {
     "name": "stdout",
     "output_type": "stream",
     "text": [
      "Epoch [30/200] finished. Train Loss: 0.1015, Train Accuracy: 0.9686, Test Loss: 0.1453, Test Accuracy: 0.9566\n"
     ]
    },
    {
     "name": "stderr",
     "output_type": "stream",
     "text": [
      "100%|██████████| 118/118 [00:04<00:00, 25.58it/s]\n"
     ]
    },
    {
     "name": "stdout",
     "output_type": "stream",
     "text": [
      "Epoch [31/200] finished. Train Loss: 0.0949, Train Accuracy: 0.9696, Test Loss: 0.1404, Test Accuracy: 0.9561\n"
     ]
    },
    {
     "name": "stderr",
     "output_type": "stream",
     "text": [
      "100%|██████████| 118/118 [00:04<00:00, 25.58it/s]\n"
     ]
    },
    {
     "name": "stdout",
     "output_type": "stream",
     "text": [
      "Epoch [32/200] finished. Train Loss: 0.0938, Train Accuracy: 0.9699, Test Loss: 0.1447, Test Accuracy: 0.9584\n"
     ]
    },
    {
     "name": "stderr",
     "output_type": "stream",
     "text": [
      "100%|██████████| 118/118 [00:04<00:00, 25.52it/s]\n"
     ]
    },
    {
     "name": "stdout",
     "output_type": "stream",
     "text": [
      "Epoch [33/200] finished. Train Loss: 0.1004, Train Accuracy: 0.9683, Test Loss: 0.1462, Test Accuracy: 0.9562\n"
     ]
    },
    {
     "name": "stderr",
     "output_type": "stream",
     "text": [
      "100%|██████████| 118/118 [00:04<00:00, 24.39it/s]\n"
     ]
    },
    {
     "name": "stdout",
     "output_type": "stream",
     "text": [
      "Epoch [34/200] finished. Train Loss: 0.0926, Train Accuracy: 0.9708, Test Loss: 0.1239, Test Accuracy: 0.9624\n"
     ]
    },
    {
     "name": "stderr",
     "output_type": "stream",
     "text": [
      "100%|██████████| 118/118 [00:04<00:00, 25.43it/s]\n"
     ]
    },
    {
     "name": "stdout",
     "output_type": "stream",
     "text": [
      "Epoch [35/200] finished. Train Loss: 0.0833, Train Accuracy: 0.9734, Test Loss: 0.1333, Test Accuracy: 0.9605\n"
     ]
    },
    {
     "name": "stderr",
     "output_type": "stream",
     "text": [
      "100%|██████████| 118/118 [00:04<00:00, 25.54it/s]\n"
     ]
    },
    {
     "name": "stdout",
     "output_type": "stream",
     "text": [
      "Epoch [36/200] finished. Train Loss: 0.0818, Train Accuracy: 0.9739, Test Loss: 0.1275, Test Accuracy: 0.9619\n"
     ]
    },
    {
     "name": "stderr",
     "output_type": "stream",
     "text": [
      "100%|██████████| 118/118 [00:04<00:00, 25.50it/s]\n"
     ]
    },
    {
     "name": "stdout",
     "output_type": "stream",
     "text": [
      "Epoch [37/200] finished. Train Loss: 0.0861, Train Accuracy: 0.9728, Test Loss: 0.1240, Test Accuracy: 0.9638\n"
     ]
    },
    {
     "name": "stderr",
     "output_type": "stream",
     "text": [
      "100%|██████████| 118/118 [00:04<00:00, 25.61it/s]\n"
     ]
    },
    {
     "name": "stdout",
     "output_type": "stream",
     "text": [
      "Epoch [38/200] finished. Train Loss: 0.0803, Train Accuracy: 0.9747, Test Loss: 0.1277, Test Accuracy: 0.9618\n"
     ]
    },
    {
     "name": "stderr",
     "output_type": "stream",
     "text": [
      "100%|██████████| 118/118 [00:04<00:00, 25.42it/s]\n"
     ]
    },
    {
     "name": "stdout",
     "output_type": "stream",
     "text": [
      "Epoch [39/200] finished. Train Loss: 0.0819, Train Accuracy: 0.9737, Test Loss: 0.1175, Test Accuracy: 0.9642\n"
     ]
    },
    {
     "name": "stderr",
     "output_type": "stream",
     "text": [
      "100%|██████████| 118/118 [00:04<00:00, 25.60it/s]\n"
     ]
    },
    {
     "name": "stdout",
     "output_type": "stream",
     "text": [
      "Epoch [40/200] finished. Train Loss: 0.0737, Train Accuracy: 0.9766, Test Loss: 0.1246, Test Accuracy: 0.9632\n"
     ]
    },
    {
     "name": "stderr",
     "output_type": "stream",
     "text": [
      "100%|██████████| 118/118 [00:04<00:00, 25.67it/s]\n"
     ]
    },
    {
     "name": "stdout",
     "output_type": "stream",
     "text": [
      "Epoch [41/200] finished. Train Loss: 0.0712, Train Accuracy: 0.9769, Test Loss: 0.1167, Test Accuracy: 0.9660\n"
     ]
    },
    {
     "name": "stderr",
     "output_type": "stream",
     "text": [
      "100%|██████████| 118/118 [00:04<00:00, 25.50it/s]\n"
     ]
    },
    {
     "name": "stdout",
     "output_type": "stream",
     "text": [
      "Epoch [42/200] finished. Train Loss: 0.0725, Train Accuracy: 0.9769, Test Loss: 0.1253, Test Accuracy: 0.9639\n"
     ]
    },
    {
     "name": "stderr",
     "output_type": "stream",
     "text": [
      "100%|██████████| 118/118 [00:04<00:00, 25.59it/s]\n"
     ]
    },
    {
     "name": "stdout",
     "output_type": "stream",
     "text": [
      "Epoch [43/200] finished. Train Loss: 0.0683, Train Accuracy: 0.9777, Test Loss: 0.1341, Test Accuracy: 0.9623\n"
     ]
    },
    {
     "name": "stderr",
     "output_type": "stream",
     "text": [
      "100%|██████████| 118/118 [00:04<00:00, 25.66it/s]\n"
     ]
    },
    {
     "name": "stdout",
     "output_type": "stream",
     "text": [
      "Epoch [44/200] finished. Train Loss: 0.0693, Train Accuracy: 0.9774, Test Loss: 0.1282, Test Accuracy: 0.9625\n"
     ]
    },
    {
     "name": "stderr",
     "output_type": "stream",
     "text": [
      "100%|██████████| 118/118 [00:04<00:00, 25.57it/s]\n"
     ]
    },
    {
     "name": "stdout",
     "output_type": "stream",
     "text": [
      "Epoch [45/200] finished. Train Loss: 0.0701, Train Accuracy: 0.9777, Test Loss: 0.1277, Test Accuracy: 0.9635\n"
     ]
    },
    {
     "name": "stderr",
     "output_type": "stream",
     "text": [
      "100%|██████████| 118/118 [00:04<00:00, 25.52it/s]\n"
     ]
    },
    {
     "name": "stdout",
     "output_type": "stream",
     "text": [
      "Epoch [46/200] finished. Train Loss: 0.0630, Train Accuracy: 0.9796, Test Loss: 0.1139, Test Accuracy: 0.9664\n"
     ]
    },
    {
     "name": "stderr",
     "output_type": "stream",
     "text": [
      "100%|██████████| 118/118 [00:04<00:00, 25.49it/s]\n"
     ]
    },
    {
     "name": "stdout",
     "output_type": "stream",
     "text": [
      "Epoch [47/200] finished. Train Loss: 0.0549, Train Accuracy: 0.9825, Test Loss: 0.1156, Test Accuracy: 0.9684\n"
     ]
    },
    {
     "name": "stderr",
     "output_type": "stream",
     "text": [
      "100%|██████████| 118/118 [00:04<00:00, 25.52it/s]\n"
     ]
    },
    {
     "name": "stdout",
     "output_type": "stream",
     "text": [
      "Epoch [48/200] finished. Train Loss: 0.0665, Train Accuracy: 0.9786, Test Loss: 0.1257, Test Accuracy: 0.9644\n"
     ]
    },
    {
     "name": "stderr",
     "output_type": "stream",
     "text": [
      "100%|██████████| 118/118 [00:04<00:00, 25.48it/s]\n"
     ]
    },
    {
     "name": "stdout",
     "output_type": "stream",
     "text": [
      "Epoch [49/200] finished. Train Loss: 0.0629, Train Accuracy: 0.9792, Test Loss: 0.1183, Test Accuracy: 0.9655\n"
     ]
    },
    {
     "name": "stderr",
     "output_type": "stream",
     "text": [
      "100%|██████████| 118/118 [00:04<00:00, 25.54it/s]\n"
     ]
    },
    {
     "name": "stdout",
     "output_type": "stream",
     "text": [
      "Epoch [50/200] finished. Train Loss: 0.0567, Train Accuracy: 0.9811, Test Loss: 0.1322, Test Accuracy: 0.9628\n"
     ]
    },
    {
     "name": "stderr",
     "output_type": "stream",
     "text": [
      "100%|██████████| 118/118 [00:05<00:00, 23.22it/s]\n"
     ]
    },
    {
     "name": "stdout",
     "output_type": "stream",
     "text": [
      "Epoch [51/200] finished. Train Loss: 0.0581, Train Accuracy: 0.9815, Test Loss: 0.1169, Test Accuracy: 0.9659\n"
     ]
    },
    {
     "name": "stderr",
     "output_type": "stream",
     "text": [
      "100%|██████████| 118/118 [00:05<00:00, 20.84it/s]\n"
     ]
    },
    {
     "name": "stdout",
     "output_type": "stream",
     "text": [
      "Epoch [52/200] finished. Train Loss: 0.0491, Train Accuracy: 0.9843, Test Loss: 0.1307, Test Accuracy: 0.9638\n"
     ]
    },
    {
     "name": "stderr",
     "output_type": "stream",
     "text": [
      "100%|██████████| 118/118 [00:04<00:00, 25.67it/s]\n"
     ]
    },
    {
     "name": "stdout",
     "output_type": "stream",
     "text": [
      "Epoch [53/200] finished. Train Loss: 0.0549, Train Accuracy: 0.9821, Test Loss: 0.1104, Test Accuracy: 0.9655\n"
     ]
    },
    {
     "name": "stderr",
     "output_type": "stream",
     "text": [
      "100%|██████████| 118/118 [00:05<00:00, 20.87it/s]\n"
     ]
    },
    {
     "name": "stdout",
     "output_type": "stream",
     "text": [
      "Epoch [54/200] finished. Train Loss: 0.0606, Train Accuracy: 0.9798, Test Loss: 0.1268, Test Accuracy: 0.9636\n"
     ]
    },
    {
     "name": "stderr",
     "output_type": "stream",
     "text": [
      "100%|██████████| 118/118 [00:05<00:00, 20.76it/s]\n"
     ]
    },
    {
     "name": "stdout",
     "output_type": "stream",
     "text": [
      "Epoch [55/200] finished. Train Loss: 0.0545, Train Accuracy: 0.9819, Test Loss: 0.1287, Test Accuracy: 0.9641\n"
     ]
    },
    {
     "name": "stderr",
     "output_type": "stream",
     "text": [
      "100%|██████████| 118/118 [00:05<00:00, 22.38it/s]\n"
     ]
    },
    {
     "name": "stdout",
     "output_type": "stream",
     "text": [
      "Epoch [56/200] finished. Train Loss: 0.0497, Train Accuracy: 0.9840, Test Loss: 0.1193, Test Accuracy: 0.9659\n"
     ]
    },
    {
     "name": "stderr",
     "output_type": "stream",
     "text": [
      "100%|██████████| 118/118 [00:04<00:00, 25.30it/s]\n"
     ]
    },
    {
     "name": "stdout",
     "output_type": "stream",
     "text": [
      "Epoch [57/200] finished. Train Loss: 0.0444, Train Accuracy: 0.9854, Test Loss: 0.1212, Test Accuracy: 0.9664\n"
     ]
    },
    {
     "name": "stderr",
     "output_type": "stream",
     "text": [
      "100%|██████████| 118/118 [00:05<00:00, 21.21it/s]\n"
     ]
    },
    {
     "name": "stdout",
     "output_type": "stream",
     "text": [
      "Epoch [58/200] finished. Train Loss: 0.0945, Train Accuracy: 0.9693, Test Loss: 0.1416, Test Accuracy: 0.9587\n"
     ]
    },
    {
     "name": "stderr",
     "output_type": "stream",
     "text": [
      "100%|██████████| 118/118 [00:05<00:00, 20.69it/s]\n"
     ]
    },
    {
     "name": "stdout",
     "output_type": "stream",
     "text": [
      "Epoch [59/200] finished. Train Loss: 0.0619, Train Accuracy: 0.9802, Test Loss: 0.1121, Test Accuracy: 0.9689\n"
     ]
    },
    {
     "name": "stderr",
     "output_type": "stream",
     "text": [
      "100%|██████████| 118/118 [00:05<00:00, 20.70it/s]\n"
     ]
    },
    {
     "name": "stdout",
     "output_type": "stream",
     "text": [
      "Epoch [60/200] finished. Train Loss: 0.0456, Train Accuracy: 0.9852, Test Loss: 0.1151, Test Accuracy: 0.9678\n"
     ]
    },
    {
     "name": "stderr",
     "output_type": "stream",
     "text": [
      "100%|██████████| 118/118 [00:05<00:00, 20.65it/s]\n"
     ]
    },
    {
     "name": "stdout",
     "output_type": "stream",
     "text": [
      "Epoch [61/200] finished. Train Loss: 0.0377, Train Accuracy: 0.9884, Test Loss: 0.1311, Test Accuracy: 0.9614\n"
     ]
    },
    {
     "name": "stderr",
     "output_type": "stream",
     "text": [
      "100%|██████████| 118/118 [00:05<00:00, 20.67it/s]\n"
     ]
    },
    {
     "name": "stdout",
     "output_type": "stream",
     "text": [
      "Epoch [62/200] finished. Train Loss: 0.0471, Train Accuracy: 0.9844, Test Loss: 0.1194, Test Accuracy: 0.9667\n"
     ]
    },
    {
     "name": "stderr",
     "output_type": "stream",
     "text": [
      "100%|██████████| 118/118 [00:05<00:00, 20.75it/s]\n"
     ]
    },
    {
     "name": "stdout",
     "output_type": "stream",
     "text": [
      "Epoch [63/200] finished. Train Loss: 0.0408, Train Accuracy: 0.9867, Test Loss: 0.1104, Test Accuracy: 0.9683\n"
     ]
    },
    {
     "name": "stderr",
     "output_type": "stream",
     "text": [
      "100%|██████████| 118/118 [00:05<00:00, 20.73it/s]\n"
     ]
    },
    {
     "name": "stdout",
     "output_type": "stream",
     "text": [
      "Epoch [64/200] finished. Train Loss: 0.0459, Train Accuracy: 0.9852, Test Loss: 0.1242, Test Accuracy: 0.9639\n"
     ]
    },
    {
     "name": "stderr",
     "output_type": "stream",
     "text": [
      "100%|██████████| 118/118 [00:05<00:00, 20.83it/s]\n"
     ]
    },
    {
     "name": "stdout",
     "output_type": "stream",
     "text": [
      "Epoch [65/200] finished. Train Loss: 0.0375, Train Accuracy: 0.9883, Test Loss: 0.1234, Test Accuracy: 0.9659\n"
     ]
    },
    {
     "name": "stderr",
     "output_type": "stream",
     "text": [
      "100%|██████████| 118/118 [00:05<00:00, 20.73it/s]\n"
     ]
    },
    {
     "name": "stdout",
     "output_type": "stream",
     "text": [
      "Epoch [66/200] finished. Train Loss: 0.0402, Train Accuracy: 0.9865, Test Loss: 0.1137, Test Accuracy: 0.9682\n"
     ]
    },
    {
     "name": "stderr",
     "output_type": "stream",
     "text": [
      "100%|██████████| 118/118 [00:05<00:00, 20.73it/s]\n"
     ]
    },
    {
     "name": "stdout",
     "output_type": "stream",
     "text": [
      "Epoch [67/200] finished. Train Loss: 0.0375, Train Accuracy: 0.9877, Test Loss: 0.1202, Test Accuracy: 0.9660\n"
     ]
    },
    {
     "name": "stderr",
     "output_type": "stream",
     "text": [
      "100%|██████████| 118/118 [00:05<00:00, 20.91it/s]\n"
     ]
    },
    {
     "name": "stdout",
     "output_type": "stream",
     "text": [
      "Epoch [68/200] finished. Train Loss: 0.0403, Train Accuracy: 0.9866, Test Loss: 0.1288, Test Accuracy: 0.9664\n"
     ]
    },
    {
     "name": "stderr",
     "output_type": "stream",
     "text": [
      "100%|██████████| 118/118 [00:05<00:00, 20.81it/s]\n"
     ]
    },
    {
     "name": "stdout",
     "output_type": "stream",
     "text": [
      "Epoch [69/200] finished. Train Loss: 0.0305, Train Accuracy: 0.9907, Test Loss: 0.1337, Test Accuracy: 0.9664\n"
     ]
    },
    {
     "name": "stderr",
     "output_type": "stream",
     "text": [
      "100%|██████████| 118/118 [00:05<00:00, 20.68it/s]\n"
     ]
    },
    {
     "name": "stdout",
     "output_type": "stream",
     "text": [
      "Epoch [70/200] finished. Train Loss: 0.0419, Train Accuracy: 0.9862, Test Loss: 0.1396, Test Accuracy: 0.9627\n"
     ]
    },
    {
     "name": "stderr",
     "output_type": "stream",
     "text": [
      "100%|██████████| 118/118 [00:05<00:00, 20.77it/s]\n"
     ]
    },
    {
     "name": "stdout",
     "output_type": "stream",
     "text": [
      "Epoch [71/200] finished. Train Loss: 0.0464, Train Accuracy: 0.9853, Test Loss: 0.1195, Test Accuracy: 0.9686\n"
     ]
    },
    {
     "name": "stderr",
     "output_type": "stream",
     "text": [
      "100%|██████████| 118/118 [00:05<00:00, 20.52it/s]\n"
     ]
    },
    {
     "name": "stdout",
     "output_type": "stream",
     "text": [
      "Epoch [72/200] finished. Train Loss: 0.0340, Train Accuracy: 0.9889, Test Loss: 0.1198, Test Accuracy: 0.9694\n"
     ]
    },
    {
     "name": "stderr",
     "output_type": "stream",
     "text": [
      "100%|██████████| 118/118 [00:06<00:00, 18.01it/s]\n"
     ]
    },
    {
     "name": "stdout",
     "output_type": "stream",
     "text": [
      "Epoch [73/200] finished. Train Loss: 0.0334, Train Accuracy: 0.9891, Test Loss: 0.1100, Test Accuracy: 0.9709\n"
     ]
    },
    {
     "name": "stderr",
     "output_type": "stream",
     "text": [
      "100%|██████████| 118/118 [00:06<00:00, 19.47it/s]\n"
     ]
    },
    {
     "name": "stdout",
     "output_type": "stream",
     "text": [
      "Epoch [74/200] finished. Train Loss: 0.0278, Train Accuracy: 0.9910, Test Loss: 0.1484, Test Accuracy: 0.9618\n"
     ]
    },
    {
     "name": "stderr",
     "output_type": "stream",
     "text": [
      "100%|██████████| 118/118 [00:05<00:00, 20.65it/s]\n"
     ]
    },
    {
     "name": "stdout",
     "output_type": "stream",
     "text": [
      "Epoch [75/200] finished. Train Loss: 0.0358, Train Accuracy: 0.9881, Test Loss: 0.1268, Test Accuracy: 0.9665\n"
     ]
    },
    {
     "name": "stderr",
     "output_type": "stream",
     "text": [
      "100%|██████████| 118/118 [00:05<00:00, 20.66it/s]\n"
     ]
    },
    {
     "name": "stdout",
     "output_type": "stream",
     "text": [
      "Epoch [76/200] finished. Train Loss: 0.0349, Train Accuracy: 0.9888, Test Loss: 0.1212, Test Accuracy: 0.9669\n"
     ]
    },
    {
     "name": "stderr",
     "output_type": "stream",
     "text": [
      "100%|██████████| 118/118 [00:05<00:00, 20.71it/s]\n"
     ]
    },
    {
     "name": "stdout",
     "output_type": "stream",
     "text": [
      "Epoch [77/200] finished. Train Loss: 0.0321, Train Accuracy: 0.9894, Test Loss: 0.1159, Test Accuracy: 0.9689\n"
     ]
    },
    {
     "name": "stderr",
     "output_type": "stream",
     "text": [
      "100%|██████████| 118/118 [00:05<00:00, 20.74it/s]\n"
     ]
    },
    {
     "name": "stdout",
     "output_type": "stream",
     "text": [
      "Epoch [78/200] finished. Train Loss: 0.0215, Train Accuracy: 0.9933, Test Loss: 0.1246, Test Accuracy: 0.9696\n"
     ]
    },
    {
     "name": "stderr",
     "output_type": "stream",
     "text": [
      "100%|██████████| 118/118 [00:05<00:00, 20.68it/s]\n"
     ]
    },
    {
     "name": "stdout",
     "output_type": "stream",
     "text": [
      "Epoch [79/200] finished. Train Loss: 0.0212, Train Accuracy: 0.9937, Test Loss: 0.1244, Test Accuracy: 0.9676\n"
     ]
    },
    {
     "name": "stderr",
     "output_type": "stream",
     "text": [
      "100%|██████████| 118/118 [00:05<00:00, 20.77it/s]\n"
     ]
    },
    {
     "name": "stdout",
     "output_type": "stream",
     "text": [
      "Epoch [80/200] finished. Train Loss: 0.0982, Train Accuracy: 0.9699, Test Loss: 0.1412, Test Accuracy: 0.9615\n"
     ]
    },
    {
     "name": "stderr",
     "output_type": "stream",
     "text": [
      "100%|██████████| 118/118 [00:05<00:00, 20.88it/s]\n"
     ]
    },
    {
     "name": "stdout",
     "output_type": "stream",
     "text": [
      "Epoch [81/200] finished. Train Loss: 0.0435, Train Accuracy: 0.9859, Test Loss: 0.1221, Test Accuracy: 0.9684\n"
     ]
    },
    {
     "name": "stderr",
     "output_type": "stream",
     "text": [
      "100%|██████████| 118/118 [00:05<00:00, 20.89it/s]\n"
     ]
    },
    {
     "name": "stdout",
     "output_type": "stream",
     "text": [
      "Epoch [82/200] finished. Train Loss: 0.0258, Train Accuracy: 0.9918, Test Loss: 0.1206, Test Accuracy: 0.9678\n"
     ]
    },
    {
     "name": "stderr",
     "output_type": "stream",
     "text": [
      "100%|██████████| 118/118 [00:05<00:00, 20.99it/s]\n"
     ]
    },
    {
     "name": "stdout",
     "output_type": "stream",
     "text": [
      "Epoch [83/200] finished. Train Loss: 0.0233, Train Accuracy: 0.9927, Test Loss: 0.1296, Test Accuracy: 0.9666\n"
     ]
    },
    {
     "name": "stderr",
     "output_type": "stream",
     "text": [
      "100%|██████████| 118/118 [00:05<00:00, 20.86it/s]\n"
     ]
    },
    {
     "name": "stdout",
     "output_type": "stream",
     "text": [
      "Epoch [84/200] finished. Train Loss: 0.0223, Train Accuracy: 0.9935, Test Loss: 0.1236, Test Accuracy: 0.9696\n"
     ]
    },
    {
     "name": "stderr",
     "output_type": "stream",
     "text": [
      "100%|██████████| 118/118 [00:05<00:00, 20.58it/s]\n"
     ]
    },
    {
     "name": "stdout",
     "output_type": "stream",
     "text": [
      "Epoch [85/200] finished. Train Loss: 0.0154, Train Accuracy: 0.9956, Test Loss: 0.1371, Test Accuracy: 0.9676\n"
     ]
    },
    {
     "name": "stderr",
     "output_type": "stream",
     "text": [
      "100%|██████████| 118/118 [00:05<00:00, 20.65it/s]\n"
     ]
    },
    {
     "name": "stdout",
     "output_type": "stream",
     "text": [
      "Epoch [86/200] finished. Train Loss: 0.0196, Train Accuracy: 0.9940, Test Loss: 0.1225, Test Accuracy: 0.9702\n"
     ]
    },
    {
     "name": "stderr",
     "output_type": "stream",
     "text": [
      "100%|██████████| 118/118 [00:05<00:00, 20.60it/s]\n"
     ]
    },
    {
     "name": "stdout",
     "output_type": "stream",
     "text": [
      "Epoch [87/200] finished. Train Loss: 0.0159, Train Accuracy: 0.9954, Test Loss: 0.1306, Test Accuracy: 0.9681\n"
     ]
    },
    {
     "name": "stderr",
     "output_type": "stream",
     "text": [
      "100%|██████████| 118/118 [00:05<00:00, 20.91it/s]\n"
     ]
    },
    {
     "name": "stdout",
     "output_type": "stream",
     "text": [
      "Epoch [88/200] finished. Train Loss: 0.0188, Train Accuracy: 0.9943, Test Loss: 0.1290, Test Accuracy: 0.9669\n"
     ]
    },
    {
     "name": "stderr",
     "output_type": "stream",
     "text": [
      "100%|██████████| 118/118 [00:05<00:00, 20.82it/s]\n"
     ]
    },
    {
     "name": "stdout",
     "output_type": "stream",
     "text": [
      "Epoch [89/200] finished. Train Loss: 0.0316, Train Accuracy: 0.9893, Test Loss: 0.1771, Test Accuracy: 0.9572\n"
     ]
    },
    {
     "name": "stderr",
     "output_type": "stream",
     "text": [
      "100%|██████████| 118/118 [00:05<00:00, 20.83it/s]\n"
     ]
    },
    {
     "name": "stdout",
     "output_type": "stream",
     "text": [
      "Epoch [90/200] finished. Train Loss: 0.0368, Train Accuracy: 0.9881, Test Loss: 0.1232, Test Accuracy: 0.9676\n"
     ]
    },
    {
     "name": "stderr",
     "output_type": "stream",
     "text": [
      "100%|██████████| 118/118 [00:05<00:00, 20.75it/s]\n"
     ]
    },
    {
     "name": "stdout",
     "output_type": "stream",
     "text": [
      "Epoch [91/200] finished. Train Loss: 0.0358, Train Accuracy: 0.9885, Test Loss: 0.1200, Test Accuracy: 0.9691\n"
     ]
    },
    {
     "name": "stderr",
     "output_type": "stream",
     "text": [
      "100%|██████████| 118/118 [00:05<00:00, 20.76it/s]\n"
     ]
    },
    {
     "name": "stdout",
     "output_type": "stream",
     "text": [
      "Epoch [92/200] finished. Train Loss: 0.0137, Train Accuracy: 0.9963, Test Loss: 0.1198, Test Accuracy: 0.9692\n"
     ]
    },
    {
     "name": "stderr",
     "output_type": "stream",
     "text": [
      "100%|██████████| 118/118 [00:05<00:00, 20.92it/s]\n"
     ]
    },
    {
     "name": "stdout",
     "output_type": "stream",
     "text": [
      "Epoch [93/200] finished. Train Loss: 0.0152, Train Accuracy: 0.9957, Test Loss: 0.1671, Test Accuracy: 0.9620\n"
     ]
    },
    {
     "name": "stderr",
     "output_type": "stream",
     "text": [
      "100%|██████████| 118/118 [00:05<00:00, 20.88it/s]\n"
     ]
    },
    {
     "name": "stdout",
     "output_type": "stream",
     "text": [
      "Epoch [94/200] finished. Train Loss: 0.0169, Train Accuracy: 0.9948, Test Loss: 0.1341, Test Accuracy: 0.9690\n"
     ]
    },
    {
     "name": "stderr",
     "output_type": "stream",
     "text": [
      "100%|██████████| 118/118 [00:05<00:00, 20.94it/s]\n"
     ]
    },
    {
     "name": "stdout",
     "output_type": "stream",
     "text": [
      "Epoch [95/200] finished. Train Loss: 0.0205, Train Accuracy: 0.9938, Test Loss: 0.1549, Test Accuracy: 0.9635\n"
     ]
    },
    {
     "name": "stderr",
     "output_type": "stream",
     "text": [
      "100%|██████████| 118/118 [00:05<00:00, 20.83it/s]\n"
     ]
    },
    {
     "name": "stdout",
     "output_type": "stream",
     "text": [
      "Epoch [96/200] finished. Train Loss: 0.0285, Train Accuracy: 0.9905, Test Loss: 0.1711, Test Accuracy: 0.9598\n"
     ]
    },
    {
     "name": "stderr",
     "output_type": "stream",
     "text": [
      "100%|██████████| 118/118 [00:05<00:00, 20.99it/s]\n"
     ]
    },
    {
     "name": "stdout",
     "output_type": "stream",
     "text": [
      "Epoch [97/200] finished. Train Loss: 0.0398, Train Accuracy: 0.9868, Test Loss: 0.1314, Test Accuracy: 0.9668\n"
     ]
    },
    {
     "name": "stderr",
     "output_type": "stream",
     "text": [
      "100%|██████████| 118/118 [00:05<00:00, 20.81it/s]\n"
     ]
    },
    {
     "name": "stdout",
     "output_type": "stream",
     "text": [
      "Epoch [98/200] finished. Train Loss: 0.0163, Train Accuracy: 0.9953, Test Loss: 0.1288, Test Accuracy: 0.9685\n"
     ]
    },
    {
     "name": "stderr",
     "output_type": "stream",
     "text": [
      "100%|██████████| 118/118 [00:05<00:00, 20.84it/s]\n"
     ]
    },
    {
     "name": "stdout",
     "output_type": "stream",
     "text": [
      "Epoch [99/200] finished. Train Loss: 0.0142, Train Accuracy: 0.9956, Test Loss: 0.1303, Test Accuracy: 0.9696\n"
     ]
    },
    {
     "name": "stderr",
     "output_type": "stream",
     "text": [
      "100%|██████████| 118/118 [00:05<00:00, 20.57it/s]\n"
     ]
    },
    {
     "name": "stdout",
     "output_type": "stream",
     "text": [
      "Epoch [100/200] finished. Train Loss: 0.0173, Train Accuracy: 0.9949, Test Loss: 0.1443, Test Accuracy: 0.9668\n"
     ]
    },
    {
     "name": "stderr",
     "output_type": "stream",
     "text": [
      "100%|██████████| 118/118 [00:05<00:00, 20.68it/s]\n"
     ]
    },
    {
     "name": "stdout",
     "output_type": "stream",
     "text": [
      "Epoch [101/200] finished. Train Loss: 0.0132, Train Accuracy: 0.9961, Test Loss: 0.1370, Test Accuracy: 0.9678\n"
     ]
    },
    {
     "name": "stderr",
     "output_type": "stream",
     "text": [
      "100%|██████████| 118/118 [00:05<00:00, 20.85it/s]\n"
     ]
    },
    {
     "name": "stdout",
     "output_type": "stream",
     "text": [
      "Epoch [102/200] finished. Train Loss: 0.0103, Train Accuracy: 0.9970, Test Loss: 0.1547, Test Accuracy: 0.9662\n"
     ]
    },
    {
     "name": "stderr",
     "output_type": "stream",
     "text": [
      "100%|██████████| 118/118 [00:05<00:00, 20.87it/s]\n"
     ]
    },
    {
     "name": "stdout",
     "output_type": "stream",
     "text": [
      "Epoch [103/200] finished. Train Loss: 0.0268, Train Accuracy: 0.9914, Test Loss: 0.1476, Test Accuracy: 0.9672\n"
     ]
    },
    {
     "name": "stderr",
     "output_type": "stream",
     "text": [
      "100%|██████████| 118/118 [00:05<00:00, 21.01it/s]\n"
     ]
    },
    {
     "name": "stdout",
     "output_type": "stream",
     "text": [
      "Epoch [104/200] finished. Train Loss: 0.0365, Train Accuracy: 0.9884, Test Loss: 0.1256, Test Accuracy: 0.9672\n"
     ]
    },
    {
     "name": "stderr",
     "output_type": "stream",
     "text": [
      "100%|██████████| 118/118 [00:05<00:00, 21.03it/s]\n"
     ]
    },
    {
     "name": "stdout",
     "output_type": "stream",
     "text": [
      "Epoch [105/200] finished. Train Loss: 0.0275, Train Accuracy: 0.9915, Test Loss: 0.1288, Test Accuracy: 0.9680\n"
     ]
    },
    {
     "name": "stderr",
     "output_type": "stream",
     "text": [
      "100%|██████████| 118/118 [00:05<00:00, 21.02it/s]\n"
     ]
    },
    {
     "name": "stdout",
     "output_type": "stream",
     "text": [
      "Epoch [106/200] finished. Train Loss: 0.0148, Train Accuracy: 0.9958, Test Loss: 0.1295, Test Accuracy: 0.9711\n"
     ]
    },
    {
     "name": "stderr",
     "output_type": "stream",
     "text": [
      "100%|██████████| 118/118 [00:05<00:00, 20.81it/s]\n"
     ]
    },
    {
     "name": "stdout",
     "output_type": "stream",
     "text": [
      "Epoch [107/200] finished. Train Loss: 0.0202, Train Accuracy: 0.9936, Test Loss: 0.1401, Test Accuracy: 0.9668\n"
     ]
    },
    {
     "name": "stderr",
     "output_type": "stream",
     "text": [
      "100%|██████████| 118/118 [00:05<00:00, 21.06it/s]\n"
     ]
    },
    {
     "name": "stdout",
     "output_type": "stream",
     "text": [
      "Epoch [108/200] finished. Train Loss: 0.0199, Train Accuracy: 0.9937, Test Loss: 0.1396, Test Accuracy: 0.9672\n"
     ]
    },
    {
     "name": "stderr",
     "output_type": "stream",
     "text": [
      "100%|██████████| 118/118 [00:05<00:00, 20.81it/s]\n"
     ]
    },
    {
     "name": "stdout",
     "output_type": "stream",
     "text": [
      "Epoch [109/200] finished. Train Loss: 0.0259, Train Accuracy: 0.9918, Test Loss: 0.1414, Test Accuracy: 0.9665\n"
     ]
    },
    {
     "name": "stderr",
     "output_type": "stream",
     "text": [
      "100%|██████████| 118/118 [00:05<00:00, 20.69it/s]\n"
     ]
    },
    {
     "name": "stdout",
     "output_type": "stream",
     "text": [
      "Epoch [110/200] finished. Train Loss: 0.0248, Train Accuracy: 0.9922, Test Loss: 0.1750, Test Accuracy: 0.9607\n"
     ]
    },
    {
     "name": "stderr",
     "output_type": "stream",
     "text": [
      "100%|██████████| 118/118 [00:05<00:00, 20.71it/s]\n"
     ]
    },
    {
     "name": "stdout",
     "output_type": "stream",
     "text": [
      "Epoch [111/200] finished. Train Loss: 0.0533, Train Accuracy: 0.9828, Test Loss: 0.1229, Test Accuracy: 0.9691\n"
     ]
    },
    {
     "name": "stderr",
     "output_type": "stream",
     "text": [
      "100%|██████████| 118/118 [00:05<00:00, 20.77it/s]\n"
     ]
    },
    {
     "name": "stdout",
     "output_type": "stream",
     "text": [
      "Epoch [112/200] finished. Train Loss: 0.0214, Train Accuracy: 0.9932, Test Loss: 0.1368, Test Accuracy: 0.9669\n"
     ]
    },
    {
     "name": "stderr",
     "output_type": "stream",
     "text": [
      "100%|██████████| 118/118 [00:05<00:00, 20.93it/s]\n"
     ]
    },
    {
     "name": "stdout",
     "output_type": "stream",
     "text": [
      "Epoch [113/200] finished. Train Loss: 0.0122, Train Accuracy: 0.9964, Test Loss: 0.1273, Test Accuracy: 0.9712\n"
     ]
    },
    {
     "name": "stderr",
     "output_type": "stream",
     "text": [
      "100%|██████████| 118/118 [00:05<00:00, 20.74it/s]\n"
     ]
    },
    {
     "name": "stdout",
     "output_type": "stream",
     "text": [
      "Epoch [114/200] finished. Train Loss: 0.0080, Train Accuracy: 0.9983, Test Loss: 0.1334, Test Accuracy: 0.9703\n"
     ]
    },
    {
     "name": "stderr",
     "output_type": "stream",
     "text": [
      "100%|██████████| 118/118 [00:05<00:00, 20.79it/s]\n"
     ]
    },
    {
     "name": "stdout",
     "output_type": "stream",
     "text": [
      "Epoch [115/200] finished. Train Loss: 0.0253, Train Accuracy: 0.9917, Test Loss: 0.1487, Test Accuracy: 0.9665\n"
     ]
    },
    {
     "name": "stderr",
     "output_type": "stream",
     "text": [
      "100%|██████████| 118/118 [00:05<00:00, 20.81it/s]\n"
     ]
    },
    {
     "name": "stdout",
     "output_type": "stream",
     "text": [
      "Epoch [116/200] finished. Train Loss: 0.0170, Train Accuracy: 0.9944, Test Loss: 0.1555, Test Accuracy: 0.9664\n"
     ]
    },
    {
     "name": "stderr",
     "output_type": "stream",
     "text": [
      "100%|██████████| 118/118 [00:05<00:00, 20.76it/s]\n"
     ]
    },
    {
     "name": "stdout",
     "output_type": "stream",
     "text": [
      "Epoch [117/200] finished. Train Loss: 0.0135, Train Accuracy: 0.9962, Test Loss: 0.1338, Test Accuracy: 0.9704\n"
     ]
    },
    {
     "name": "stderr",
     "output_type": "stream",
     "text": [
      "100%|██████████| 118/118 [00:05<00:00, 20.92it/s]\n"
     ]
    },
    {
     "name": "stdout",
     "output_type": "stream",
     "text": [
      "Epoch [118/200] finished. Train Loss: 0.0086, Train Accuracy: 0.9976, Test Loss: 0.1339, Test Accuracy: 0.9699\n"
     ]
    },
    {
     "name": "stderr",
     "output_type": "stream",
     "text": [
      "100%|██████████| 118/118 [00:05<00:00, 20.70it/s]\n"
     ]
    },
    {
     "name": "stdout",
     "output_type": "stream",
     "text": [
      "Epoch [119/200] finished. Train Loss: 0.0059, Train Accuracy: 0.9986, Test Loss: 0.1325, Test Accuracy: 0.9704\n"
     ]
    },
    {
     "name": "stderr",
     "output_type": "stream",
     "text": [
      "100%|██████████| 118/118 [00:05<00:00, 20.82it/s]\n"
     ]
    },
    {
     "name": "stdout",
     "output_type": "stream",
     "text": [
      "Epoch [120/200] finished. Train Loss: 0.0038, Train Accuracy: 0.9995, Test Loss: 0.1393, Test Accuracy: 0.9701\n"
     ]
    },
    {
     "name": "stderr",
     "output_type": "stream",
     "text": [
      "100%|██████████| 118/118 [00:05<00:00, 20.56it/s]\n"
     ]
    },
    {
     "name": "stdout",
     "output_type": "stream",
     "text": [
      "Epoch [121/200] finished. Train Loss: 0.0159, Train Accuracy: 0.9953, Test Loss: 0.1731, Test Accuracy: 0.9616\n"
     ]
    },
    {
     "name": "stderr",
     "output_type": "stream",
     "text": [
      "100%|██████████| 118/118 [00:05<00:00, 20.91it/s]\n"
     ]
    },
    {
     "name": "stdout",
     "output_type": "stream",
     "text": [
      "Epoch [122/200] finished. Train Loss: 0.1269, Train Accuracy: 0.9661, Test Loss: 0.1663, Test Accuracy: 0.9543\n"
     ]
    },
    {
     "name": "stderr",
     "output_type": "stream",
     "text": [
      "100%|██████████| 118/118 [00:05<00:00, 20.97it/s]\n"
     ]
    },
    {
     "name": "stdout",
     "output_type": "stream",
     "text": [
      "Epoch [123/200] finished. Train Loss: 0.0438, Train Accuracy: 0.9856, Test Loss: 0.1322, Test Accuracy: 0.9675\n"
     ]
    },
    {
     "name": "stderr",
     "output_type": "stream",
     "text": [
      "100%|██████████| 118/118 [00:05<00:00, 20.88it/s]\n"
     ]
    },
    {
     "name": "stdout",
     "output_type": "stream",
     "text": [
      "Epoch [124/200] finished. Train Loss: 0.0166, Train Accuracy: 0.9949, Test Loss: 0.1252, Test Accuracy: 0.9698\n"
     ]
    },
    {
     "name": "stderr",
     "output_type": "stream",
     "text": [
      "100%|██████████| 118/118 [00:05<00:00, 20.78it/s]\n"
     ]
    },
    {
     "name": "stdout",
     "output_type": "stream",
     "text": [
      "Epoch [125/200] finished. Train Loss: 0.0096, Train Accuracy: 0.9978, Test Loss: 0.1309, Test Accuracy: 0.9693\n"
     ]
    },
    {
     "name": "stderr",
     "output_type": "stream",
     "text": [
      "100%|██████████| 118/118 [00:05<00:00, 20.76it/s]\n"
     ]
    },
    {
     "name": "stdout",
     "output_type": "stream",
     "text": [
      "Epoch [126/200] finished. Train Loss: 0.0066, Train Accuracy: 0.9986, Test Loss: 0.1286, Test Accuracy: 0.9697\n"
     ]
    },
    {
     "name": "stderr",
     "output_type": "stream",
     "text": [
      "100%|██████████| 118/118 [00:05<00:00, 20.28it/s]\n"
     ]
    },
    {
     "name": "stdout",
     "output_type": "stream",
     "text": [
      "Epoch [127/200] finished. Train Loss: 0.0044, Train Accuracy: 0.9995, Test Loss: 0.1315, Test Accuracy: 0.9714\n"
     ]
    },
    {
     "name": "stderr",
     "output_type": "stream",
     "text": [
      "100%|██████████| 118/118 [00:05<00:00, 20.59it/s]\n"
     ]
    },
    {
     "name": "stdout",
     "output_type": "stream",
     "text": [
      "Epoch [128/200] finished. Train Loss: 0.0033, Train Accuracy: 0.9997, Test Loss: 0.1318, Test Accuracy: 0.9706\n"
     ]
    },
    {
     "name": "stderr",
     "output_type": "stream",
     "text": [
      "100%|██████████| 118/118 [00:05<00:00, 20.71it/s]\n"
     ]
    },
    {
     "name": "stdout",
     "output_type": "stream",
     "text": [
      "Epoch [129/200] finished. Train Loss: 0.0022, Train Accuracy: 0.9999, Test Loss: 0.1310, Test Accuracy: 0.9706\n"
     ]
    },
    {
     "name": "stderr",
     "output_type": "stream",
     "text": [
      "100%|██████████| 118/118 [00:05<00:00, 20.60it/s]\n"
     ]
    },
    {
     "name": "stdout",
     "output_type": "stream",
     "text": [
      "Epoch [130/200] finished. Train Loss: 0.0018, Train Accuracy: 0.9999, Test Loss: 0.1343, Test Accuracy: 0.9706\n"
     ]
    },
    {
     "name": "stderr",
     "output_type": "stream",
     "text": [
      "100%|██████████| 118/118 [00:05<00:00, 20.65it/s]\n"
     ]
    },
    {
     "name": "stdout",
     "output_type": "stream",
     "text": [
      "Epoch [131/200] finished. Train Loss: 0.0015, Train Accuracy: 0.9999, Test Loss: 0.1379, Test Accuracy: 0.9717\n"
     ]
    },
    {
     "name": "stderr",
     "output_type": "stream",
     "text": [
      "100%|██████████| 118/118 [00:05<00:00, 21.04it/s]\n"
     ]
    },
    {
     "name": "stdout",
     "output_type": "stream",
     "text": [
      "Epoch [132/200] finished. Train Loss: 0.0014, Train Accuracy: 1.0000, Test Loss: 0.1421, Test Accuracy: 0.9716\n"
     ]
    },
    {
     "name": "stderr",
     "output_type": "stream",
     "text": [
      "100%|██████████| 118/118 [00:05<00:00, 21.02it/s]\n"
     ]
    },
    {
     "name": "stdout",
     "output_type": "stream",
     "text": [
      "Epoch [133/200] finished. Train Loss: 0.0012, Train Accuracy: 1.0000, Test Loss: 0.1439, Test Accuracy: 0.9715\n"
     ]
    },
    {
     "name": "stderr",
     "output_type": "stream",
     "text": [
      "100%|██████████| 118/118 [00:05<00:00, 21.14it/s]\n"
     ]
    },
    {
     "name": "stdout",
     "output_type": "stream",
     "text": [
      "Epoch [134/200] finished. Train Loss: 0.0011, Train Accuracy: 1.0000, Test Loss: 0.1458, Test Accuracy: 0.9721\n"
     ]
    },
    {
     "name": "stderr",
     "output_type": "stream",
     "text": [
      "100%|██████████| 118/118 [00:05<00:00, 21.00it/s]\n"
     ]
    },
    {
     "name": "stdout",
     "output_type": "stream",
     "text": [
      "Epoch [135/200] finished. Train Loss: 0.0010, Train Accuracy: 1.0000, Test Loss: 0.1472, Test Accuracy: 0.9710\n"
     ]
    },
    {
     "name": "stderr",
     "output_type": "stream",
     "text": [
      "100%|██████████| 118/118 [00:05<00:00, 20.86it/s]\n"
     ]
    },
    {
     "name": "stdout",
     "output_type": "stream",
     "text": [
      "Epoch [136/200] finished. Train Loss: 0.0009, Train Accuracy: 1.0000, Test Loss: 0.1498, Test Accuracy: 0.9710\n"
     ]
    },
    {
     "name": "stderr",
     "output_type": "stream",
     "text": [
      "100%|██████████| 118/118 [00:05<00:00, 20.92it/s]\n"
     ]
    },
    {
     "name": "stdout",
     "output_type": "stream",
     "text": [
      "Epoch [137/200] finished. Train Loss: 0.0008, Train Accuracy: 1.0000, Test Loss: 0.1509, Test Accuracy: 0.9709\n"
     ]
    },
    {
     "name": "stderr",
     "output_type": "stream",
     "text": [
      "100%|██████████| 118/118 [00:05<00:00, 20.88it/s]\n"
     ]
    },
    {
     "name": "stdout",
     "output_type": "stream",
     "text": [
      "Epoch [138/200] finished. Train Loss: 0.0008, Train Accuracy: 1.0000, Test Loss: 0.1533, Test Accuracy: 0.9711\n"
     ]
    },
    {
     "name": "stderr",
     "output_type": "stream",
     "text": [
      "100%|██████████| 118/118 [00:05<00:00, 21.00it/s]\n"
     ]
    },
    {
     "name": "stdout",
     "output_type": "stream",
     "text": [
      "Epoch [139/200] finished. Train Loss: 0.0007, Train Accuracy: 1.0000, Test Loss: 0.1547, Test Accuracy: 0.9709\n"
     ]
    },
    {
     "name": "stderr",
     "output_type": "stream",
     "text": [
      "100%|██████████| 118/118 [00:05<00:00, 21.07it/s]\n"
     ]
    },
    {
     "name": "stdout",
     "output_type": "stream",
     "text": [
      "Epoch [140/200] finished. Train Loss: 0.0006, Train Accuracy: 1.0000, Test Loss: 0.1564, Test Accuracy: 0.9714\n"
     ]
    },
    {
     "name": "stderr",
     "output_type": "stream",
     "text": [
      "100%|██████████| 118/118 [00:05<00:00, 20.93it/s]\n"
     ]
    },
    {
     "name": "stdout",
     "output_type": "stream",
     "text": [
      "Epoch [141/200] finished. Train Loss: 0.2874, Train Accuracy: 0.9385, Test Loss: 0.3791, Test Accuracy: 0.9033\n"
     ]
    },
    {
     "name": "stderr",
     "output_type": "stream",
     "text": [
      "100%|██████████| 118/118 [00:05<00:00, 20.84it/s]\n"
     ]
    },
    {
     "name": "stdout",
     "output_type": "stream",
     "text": [
      "Epoch [142/200] finished. Train Loss: 0.1103, Train Accuracy: 0.9658, Test Loss: 0.1248, Test Accuracy: 0.9666\n"
     ]
    },
    {
     "name": "stderr",
     "output_type": "stream",
     "text": [
      "100%|██████████| 118/118 [00:05<00:00, 20.98it/s]\n"
     ]
    },
    {
     "name": "stdout",
     "output_type": "stream",
     "text": [
      "Epoch [143/200] finished. Train Loss: 0.0415, Train Accuracy: 0.9863, Test Loss: 0.1213, Test Accuracy: 0.9679\n"
     ]
    },
    {
     "name": "stderr",
     "output_type": "stream",
     "text": [
      "100%|██████████| 118/118 [00:05<00:00, 20.92it/s]\n"
     ]
    },
    {
     "name": "stdout",
     "output_type": "stream",
     "text": [
      "Epoch [144/200] finished. Train Loss: 0.0234, Train Accuracy: 0.9927, Test Loss: 0.1222, Test Accuracy: 0.9690\n"
     ]
    },
    {
     "name": "stderr",
     "output_type": "stream",
     "text": [
      "100%|██████████| 118/118 [00:05<00:00, 20.96it/s]\n"
     ]
    },
    {
     "name": "stdout",
     "output_type": "stream",
     "text": [
      "Epoch [145/200] finished. Train Loss: 0.0131, Train Accuracy: 0.9966, Test Loss: 0.1244, Test Accuracy: 0.9708\n"
     ]
    },
    {
     "name": "stderr",
     "output_type": "stream",
     "text": [
      "100%|██████████| 118/118 [00:05<00:00, 20.81it/s]\n"
     ]
    },
    {
     "name": "stdout",
     "output_type": "stream",
     "text": [
      "Epoch [146/200] finished. Train Loss: 0.0113, Train Accuracy: 0.9974, Test Loss: 0.1318, Test Accuracy: 0.9702\n"
     ]
    },
    {
     "name": "stderr",
     "output_type": "stream",
     "text": [
      "100%|██████████| 118/118 [00:05<00:00, 20.85it/s]\n"
     ]
    },
    {
     "name": "stdout",
     "output_type": "stream",
     "text": [
      "Epoch [147/200] finished. Train Loss: 0.0069, Train Accuracy: 0.9988, Test Loss: 0.1288, Test Accuracy: 0.9711\n"
     ]
    },
    {
     "name": "stderr",
     "output_type": "stream",
     "text": [
      "100%|██████████| 118/118 [00:05<00:00, 20.70it/s]\n"
     ]
    },
    {
     "name": "stdout",
     "output_type": "stream",
     "text": [
      "Epoch [148/200] finished. Train Loss: 0.0049, Train Accuracy: 0.9994, Test Loss: 0.1335, Test Accuracy: 0.9716\n"
     ]
    },
    {
     "name": "stderr",
     "output_type": "stream",
     "text": [
      "100%|██████████| 118/118 [00:05<00:00, 20.87it/s]\n"
     ]
    },
    {
     "name": "stdout",
     "output_type": "stream",
     "text": [
      "Epoch [149/200] finished. Train Loss: 0.0034, Train Accuracy: 0.9999, Test Loss: 0.1374, Test Accuracy: 0.9714\n"
     ]
    },
    {
     "name": "stderr",
     "output_type": "stream",
     "text": [
      "100%|██████████| 118/118 [00:05<00:00, 20.92it/s]\n"
     ]
    },
    {
     "name": "stdout",
     "output_type": "stream",
     "text": [
      "Epoch [150/200] finished. Train Loss: 0.0026, Train Accuracy: 0.9999, Test Loss: 0.1369, Test Accuracy: 0.9720\n"
     ]
    },
    {
     "name": "stderr",
     "output_type": "stream",
     "text": [
      "100%|██████████| 118/118 [00:05<00:00, 20.93it/s]\n"
     ]
    },
    {
     "name": "stdout",
     "output_type": "stream",
     "text": [
      "Epoch [151/200] finished. Train Loss: 0.0021, Train Accuracy: 1.0000, Test Loss: 0.1416, Test Accuracy: 0.9721\n"
     ]
    },
    {
     "name": "stderr",
     "output_type": "stream",
     "text": [
      "100%|██████████| 118/118 [00:05<00:00, 20.75it/s]\n"
     ]
    },
    {
     "name": "stdout",
     "output_type": "stream",
     "text": [
      "Epoch [152/200] finished. Train Loss: 0.0019, Train Accuracy: 0.9999, Test Loss: 0.1399, Test Accuracy: 0.9713\n"
     ]
    },
    {
     "name": "stderr",
     "output_type": "stream",
     "text": [
      "100%|██████████| 118/118 [00:05<00:00, 20.23it/s]\n"
     ]
    },
    {
     "name": "stdout",
     "output_type": "stream",
     "text": [
      "Epoch [153/200] finished. Train Loss: 0.0016, Train Accuracy: 1.0000, Test Loss: 0.1438, Test Accuracy: 0.9723\n"
     ]
    },
    {
     "name": "stderr",
     "output_type": "stream",
     "text": [
      "100%|██████████| 118/118 [00:05<00:00, 20.72it/s]\n"
     ]
    },
    {
     "name": "stdout",
     "output_type": "stream",
     "text": [
      "Epoch [154/200] finished. Train Loss: 0.0015, Train Accuracy: 1.0000, Test Loss: 0.1463, Test Accuracy: 0.9726\n"
     ]
    },
    {
     "name": "stderr",
     "output_type": "stream",
     "text": [
      "100%|██████████| 118/118 [00:05<00:00, 21.00it/s]\n"
     ]
    },
    {
     "name": "stdout",
     "output_type": "stream",
     "text": [
      "Epoch [155/200] finished. Train Loss: 0.0013, Train Accuracy: 1.0000, Test Loss: 0.1483, Test Accuracy: 0.9722\n"
     ]
    },
    {
     "name": "stderr",
     "output_type": "stream",
     "text": [
      "100%|██████████| 118/118 [00:05<00:00, 20.77it/s]\n"
     ]
    },
    {
     "name": "stdout",
     "output_type": "stream",
     "text": [
      "Epoch [156/200] finished. Train Loss: 0.0012, Train Accuracy: 1.0000, Test Loss: 0.1514, Test Accuracy: 0.9721\n"
     ]
    },
    {
     "name": "stderr",
     "output_type": "stream",
     "text": [
      "100%|██████████| 118/118 [00:05<00:00, 21.09it/s]\n"
     ]
    },
    {
     "name": "stdout",
     "output_type": "stream",
     "text": [
      "Epoch [157/200] finished. Train Loss: 0.0011, Train Accuracy: 1.0000, Test Loss: 0.1517, Test Accuracy: 0.9711\n"
     ]
    },
    {
     "name": "stderr",
     "output_type": "stream",
     "text": [
      "100%|██████████| 118/118 [00:05<00:00, 20.78it/s]\n"
     ]
    },
    {
     "name": "stdout",
     "output_type": "stream",
     "text": [
      "Epoch [158/200] finished. Train Loss: 0.0009, Train Accuracy: 1.0000, Test Loss: 0.1544, Test Accuracy: 0.9718\n"
     ]
    },
    {
     "name": "stderr",
     "output_type": "stream",
     "text": [
      "100%|██████████| 118/118 [00:05<00:00, 20.77it/s]\n"
     ]
    },
    {
     "name": "stdout",
     "output_type": "stream",
     "text": [
      "Epoch [159/200] finished. Train Loss: 0.0009, Train Accuracy: 1.0000, Test Loss: 0.1552, Test Accuracy: 0.9714\n"
     ]
    },
    {
     "name": "stderr",
     "output_type": "stream",
     "text": [
      "100%|██████████| 118/118 [00:05<00:00, 20.83it/s]\n"
     ]
    },
    {
     "name": "stdout",
     "output_type": "stream",
     "text": [
      "Epoch [160/200] finished. Train Loss: 0.0008, Train Accuracy: 1.0000, Test Loss: 0.1570, Test Accuracy: 0.9716\n"
     ]
    },
    {
     "name": "stderr",
     "output_type": "stream",
     "text": [
      "100%|██████████| 118/118 [00:05<00:00, 20.87it/s]\n"
     ]
    },
    {
     "name": "stdout",
     "output_type": "stream",
     "text": [
      "Epoch [161/200] finished. Train Loss: 0.0007, Train Accuracy: 1.0000, Test Loss: 0.1596, Test Accuracy: 0.9718\n"
     ]
    },
    {
     "name": "stderr",
     "output_type": "stream",
     "text": [
      "100%|██████████| 118/118 [00:05<00:00, 20.86it/s]\n"
     ]
    },
    {
     "name": "stdout",
     "output_type": "stream",
     "text": [
      "Epoch [162/200] finished. Train Loss: 0.0007, Train Accuracy: 1.0000, Test Loss: 0.1620, Test Accuracy: 0.9716\n"
     ]
    },
    {
     "name": "stderr",
     "output_type": "stream",
     "text": [
      "100%|██████████| 118/118 [00:05<00:00, 20.76it/s]\n"
     ]
    },
    {
     "name": "stdout",
     "output_type": "stream",
     "text": [
      "Epoch [163/200] finished. Train Loss: 0.0006, Train Accuracy: 1.0000, Test Loss: 0.1635, Test Accuracy: 0.9718\n"
     ]
    },
    {
     "name": "stderr",
     "output_type": "stream",
     "text": [
      "100%|██████████| 118/118 [00:05<00:00, 20.86it/s]\n"
     ]
    },
    {
     "name": "stdout",
     "output_type": "stream",
     "text": [
      "Epoch [164/200] finished. Train Loss: 0.0006, Train Accuracy: 1.0000, Test Loss: 0.1660, Test Accuracy: 0.9713\n"
     ]
    },
    {
     "name": "stderr",
     "output_type": "stream",
     "text": [
      "100%|██████████| 118/118 [00:05<00:00, 20.84it/s]\n"
     ]
    },
    {
     "name": "stdout",
     "output_type": "stream",
     "text": [
      "Epoch [165/200] finished. Train Loss: 0.0005, Train Accuracy: 1.0000, Test Loss: 0.1660, Test Accuracy: 0.9719\n"
     ]
    },
    {
     "name": "stderr",
     "output_type": "stream",
     "text": [
      "100%|██████████| 118/118 [00:05<00:00, 20.70it/s]\n"
     ]
    },
    {
     "name": "stdout",
     "output_type": "stream",
     "text": [
      "Epoch [166/200] finished. Train Loss: 0.0005, Train Accuracy: 1.0000, Test Loss: 0.1678, Test Accuracy: 0.9716\n"
     ]
    },
    {
     "name": "stderr",
     "output_type": "stream",
     "text": [
      "100%|██████████| 118/118 [00:05<00:00, 20.83it/s]\n"
     ]
    },
    {
     "name": "stdout",
     "output_type": "stream",
     "text": [
      "Epoch [167/200] finished. Train Loss: 0.0005, Train Accuracy: 1.0000, Test Loss: 0.1684, Test Accuracy: 0.9715\n"
     ]
    },
    {
     "name": "stderr",
     "output_type": "stream",
     "text": [
      "100%|██████████| 118/118 [00:05<00:00, 20.94it/s]\n"
     ]
    },
    {
     "name": "stdout",
     "output_type": "stream",
     "text": [
      "Epoch [168/200] finished. Train Loss: 0.0004, Train Accuracy: 1.0000, Test Loss: 0.1719, Test Accuracy: 0.9718\n"
     ]
    },
    {
     "name": "stderr",
     "output_type": "stream",
     "text": [
      "100%|██████████| 118/118 [00:05<00:00, 20.81it/s]\n"
     ]
    },
    {
     "name": "stdout",
     "output_type": "stream",
     "text": [
      "Epoch [169/200] finished. Train Loss: 0.0004, Train Accuracy: 1.0000, Test Loss: 0.1731, Test Accuracy: 0.9718\n"
     ]
    },
    {
     "name": "stderr",
     "output_type": "stream",
     "text": [
      "100%|██████████| 118/118 [00:05<00:00, 20.90it/s]\n"
     ]
    },
    {
     "name": "stdout",
     "output_type": "stream",
     "text": [
      "Epoch [170/200] finished. Train Loss: 0.0004, Train Accuracy: 1.0000, Test Loss: 0.1734, Test Accuracy: 0.9714\n"
     ]
    },
    {
     "name": "stderr",
     "output_type": "stream",
     "text": [
      "100%|██████████| 118/118 [00:05<00:00, 20.76it/s]\n"
     ]
    },
    {
     "name": "stdout",
     "output_type": "stream",
     "text": [
      "Epoch [171/200] finished. Train Loss: 0.0003, Train Accuracy: 1.0000, Test Loss: 0.1753, Test Accuracy: 0.9715\n"
     ]
    },
    {
     "name": "stderr",
     "output_type": "stream",
     "text": [
      "100%|██████████| 118/118 [00:05<00:00, 20.84it/s]\n"
     ]
    },
    {
     "name": "stdout",
     "output_type": "stream",
     "text": [
      "Epoch [172/200] finished. Train Loss: 0.0003, Train Accuracy: 1.0000, Test Loss: 0.1774, Test Accuracy: 0.9716\n"
     ]
    },
    {
     "name": "stderr",
     "output_type": "stream",
     "text": [
      "100%|██████████| 118/118 [00:05<00:00, 20.89it/s]\n"
     ]
    },
    {
     "name": "stdout",
     "output_type": "stream",
     "text": [
      "Epoch [173/200] finished. Train Loss: 0.0003, Train Accuracy: 1.0000, Test Loss: 0.1796, Test Accuracy: 0.9708\n"
     ]
    },
    {
     "name": "stderr",
     "output_type": "stream",
     "text": [
      "100%|██████████| 118/118 [00:05<00:00, 20.87it/s]\n"
     ]
    },
    {
     "name": "stdout",
     "output_type": "stream",
     "text": [
      "Epoch [174/200] finished. Train Loss: 0.0003, Train Accuracy: 1.0000, Test Loss: 0.1807, Test Accuracy: 0.9715\n"
     ]
    },
    {
     "name": "stderr",
     "output_type": "stream",
     "text": [
      "100%|██████████| 118/118 [00:05<00:00, 20.75it/s]\n"
     ]
    },
    {
     "name": "stdout",
     "output_type": "stream",
     "text": [
      "Epoch [175/200] finished. Train Loss: 0.0003, Train Accuracy: 1.0000, Test Loss: 0.1828, Test Accuracy: 0.9713\n"
     ]
    },
    {
     "name": "stderr",
     "output_type": "stream",
     "text": [
      "100%|██████████| 118/118 [00:05<00:00, 20.76it/s]\n"
     ]
    },
    {
     "name": "stdout",
     "output_type": "stream",
     "text": [
      "Epoch [176/200] finished. Train Loss: 0.0002, Train Accuracy: 1.0000, Test Loss: 0.1831, Test Accuracy: 0.9714\n"
     ]
    },
    {
     "name": "stderr",
     "output_type": "stream",
     "text": [
      "100%|██████████| 118/118 [00:05<00:00, 21.05it/s]\n"
     ]
    },
    {
     "name": "stdout",
     "output_type": "stream",
     "text": [
      "Epoch [177/200] finished. Train Loss: 0.0002, Train Accuracy: 1.0000, Test Loss: 0.1833, Test Accuracy: 0.9717\n"
     ]
    },
    {
     "name": "stderr",
     "output_type": "stream",
     "text": [
      "100%|██████████| 118/118 [00:05<00:00, 20.95it/s]\n"
     ]
    },
    {
     "name": "stdout",
     "output_type": "stream",
     "text": [
      "Epoch [178/200] finished. Train Loss: 0.0002, Train Accuracy: 1.0000, Test Loss: 0.1852, Test Accuracy: 0.9707\n"
     ]
    },
    {
     "name": "stderr",
     "output_type": "stream",
     "text": [
      "100%|██████████| 118/118 [00:05<00:00, 20.81it/s]\n"
     ]
    },
    {
     "name": "stdout",
     "output_type": "stream",
     "text": [
      "Epoch [179/200] finished. Train Loss: 0.0002, Train Accuracy: 1.0000, Test Loss: 0.1884, Test Accuracy: 0.9716\n"
     ]
    },
    {
     "name": "stderr",
     "output_type": "stream",
     "text": [
      "100%|██████████| 118/118 [00:05<00:00, 20.82it/s]\n"
     ]
    },
    {
     "name": "stdout",
     "output_type": "stream",
     "text": [
      "Epoch [180/200] finished. Train Loss: 0.0002, Train Accuracy: 1.0000, Test Loss: 0.1897, Test Accuracy: 0.9705\n"
     ]
    },
    {
     "name": "stderr",
     "output_type": "stream",
     "text": [
      "100%|██████████| 118/118 [00:05<00:00, 20.70it/s]\n"
     ]
    },
    {
     "name": "stdout",
     "output_type": "stream",
     "text": [
      "Epoch [181/200] finished. Train Loss: 0.0002, Train Accuracy: 1.0000, Test Loss: 0.1905, Test Accuracy: 0.9714\n"
     ]
    },
    {
     "name": "stderr",
     "output_type": "stream",
     "text": [
      "100%|██████████| 118/118 [00:05<00:00, 20.60it/s]\n"
     ]
    },
    {
     "name": "stdout",
     "output_type": "stream",
     "text": [
      "Epoch [182/200] finished. Train Loss: 0.0002, Train Accuracy: 1.0000, Test Loss: 0.1926, Test Accuracy: 0.9713\n"
     ]
    },
    {
     "name": "stderr",
     "output_type": "stream",
     "text": [
      "100%|██████████| 118/118 [00:05<00:00, 20.82it/s]\n"
     ]
    },
    {
     "name": "stdout",
     "output_type": "stream",
     "text": [
      "Epoch [183/200] finished. Train Loss: 0.3021, Train Accuracy: 0.9273, Test Loss: 0.1458, Test Accuracy: 0.9604\n"
     ]
    },
    {
     "name": "stderr",
     "output_type": "stream",
     "text": [
      "100%|██████████| 118/118 [00:05<00:00, 20.87it/s]\n"
     ]
    },
    {
     "name": "stdout",
     "output_type": "stream",
     "text": [
      "Epoch [184/200] finished. Train Loss: 0.0653, Train Accuracy: 0.9795, Test Loss: 0.1223, Test Accuracy: 0.9691\n"
     ]
    },
    {
     "name": "stderr",
     "output_type": "stream",
     "text": [
      "100%|██████████| 118/118 [00:05<00:00, 20.89it/s]\n"
     ]
    },
    {
     "name": "stdout",
     "output_type": "stream",
     "text": [
      "Epoch [185/200] finished. Train Loss: 0.0349, Train Accuracy: 0.9889, Test Loss: 0.1178, Test Accuracy: 0.9687\n"
     ]
    },
    {
     "name": "stderr",
     "output_type": "stream",
     "text": [
      "100%|██████████| 118/118 [00:05<00:00, 20.76it/s]\n"
     ]
    },
    {
     "name": "stdout",
     "output_type": "stream",
     "text": [
      "Epoch [186/200] finished. Train Loss: 0.0253, Train Accuracy: 0.9921, Test Loss: 0.1206, Test Accuracy: 0.9709\n"
     ]
    },
    {
     "name": "stderr",
     "output_type": "stream",
     "text": [
      "100%|██████████| 118/118 [00:05<00:00, 20.87it/s]\n"
     ]
    },
    {
     "name": "stdout",
     "output_type": "stream",
     "text": [
      "Epoch [187/200] finished. Train Loss: 0.0181, Train Accuracy: 0.9947, Test Loss: 0.1259, Test Accuracy: 0.9708\n"
     ]
    },
    {
     "name": "stderr",
     "output_type": "stream",
     "text": [
      "100%|██████████| 118/118 [00:05<00:00, 20.82it/s]\n"
     ]
    },
    {
     "name": "stdout",
     "output_type": "stream",
     "text": [
      "Epoch [188/200] finished. Train Loss: 0.0162, Train Accuracy: 0.9950, Test Loss: 0.1315, Test Accuracy: 0.9681\n"
     ]
    },
    {
     "name": "stderr",
     "output_type": "stream",
     "text": [
      "100%|██████████| 118/118 [00:05<00:00, 20.94it/s]\n"
     ]
    },
    {
     "name": "stdout",
     "output_type": "stream",
     "text": [
      "Epoch [189/200] finished. Train Loss: 0.0143, Train Accuracy: 0.9959, Test Loss: 0.1278, Test Accuracy: 0.9696\n"
     ]
    },
    {
     "name": "stderr",
     "output_type": "stream",
     "text": [
      "100%|██████████| 118/118 [00:05<00:00, 20.97it/s]\n"
     ]
    },
    {
     "name": "stdout",
     "output_type": "stream",
     "text": [
      "Epoch [190/200] finished. Train Loss: 0.0083, Train Accuracy: 0.9977, Test Loss: 0.1306, Test Accuracy: 0.9722\n"
     ]
    },
    {
     "name": "stderr",
     "output_type": "stream",
     "text": [
      "100%|██████████| 118/118 [00:05<00:00, 20.83it/s]\n"
     ]
    },
    {
     "name": "stdout",
     "output_type": "stream",
     "text": [
      "Epoch [191/200] finished. Train Loss: 0.0045, Train Accuracy: 0.9992, Test Loss: 0.1368, Test Accuracy: 0.9715\n"
     ]
    },
    {
     "name": "stderr",
     "output_type": "stream",
     "text": [
      "100%|██████████| 118/118 [00:05<00:00, 20.93it/s]\n"
     ]
    },
    {
     "name": "stdout",
     "output_type": "stream",
     "text": [
      "Epoch [192/200] finished. Train Loss: 0.0101, Train Accuracy: 0.9971, Test Loss: 0.1290, Test Accuracy: 0.9709\n"
     ]
    },
    {
     "name": "stderr",
     "output_type": "stream",
     "text": [
      "100%|██████████| 118/118 [00:05<00:00, 20.79it/s]\n"
     ]
    },
    {
     "name": "stdout",
     "output_type": "stream",
     "text": [
      "Epoch [193/200] finished. Train Loss: 0.0111, Train Accuracy: 0.9966, Test Loss: 0.1372, Test Accuracy: 0.9722\n"
     ]
    },
    {
     "name": "stderr",
     "output_type": "stream",
     "text": [
      "100%|██████████| 118/118 [00:05<00:00, 20.72it/s]\n"
     ]
    },
    {
     "name": "stdout",
     "output_type": "stream",
     "text": [
      "Epoch [194/200] finished. Train Loss: 0.0067, Train Accuracy: 0.9985, Test Loss: 0.1358, Test Accuracy: 0.9726\n"
     ]
    },
    {
     "name": "stderr",
     "output_type": "stream",
     "text": [
      "100%|██████████| 118/118 [00:05<00:00, 20.53it/s]\n"
     ]
    },
    {
     "name": "stdout",
     "output_type": "stream",
     "text": [
      "Epoch [195/200] finished. Train Loss: 0.0039, Train Accuracy: 0.9994, Test Loss: 0.1334, Test Accuracy: 0.9728\n"
     ]
    },
    {
     "name": "stderr",
     "output_type": "stream",
     "text": [
      "100%|██████████| 118/118 [00:05<00:00, 20.74it/s]\n"
     ]
    },
    {
     "name": "stdout",
     "output_type": "stream",
     "text": [
      "Epoch [196/200] finished. Train Loss: 0.0021, Train Accuracy: 0.9999, Test Loss: 0.1370, Test Accuracy: 0.9714\n"
     ]
    },
    {
     "name": "stderr",
     "output_type": "stream",
     "text": [
      "100%|██████████| 118/118 [00:05<00:00, 20.76it/s]\n"
     ]
    },
    {
     "name": "stdout",
     "output_type": "stream",
     "text": [
      "Epoch [197/200] finished. Train Loss: 0.0014, Train Accuracy: 1.0000, Test Loss: 0.1374, Test Accuracy: 0.9729\n"
     ]
    },
    {
     "name": "stderr",
     "output_type": "stream",
     "text": [
      "100%|██████████| 118/118 [00:05<00:00, 20.89it/s]\n"
     ]
    },
    {
     "name": "stdout",
     "output_type": "stream",
     "text": [
      "Epoch [198/200] finished. Train Loss: 0.0009, Train Accuracy: 1.0000, Test Loss: 0.1393, Test Accuracy: 0.9725\n"
     ]
    },
    {
     "name": "stderr",
     "output_type": "stream",
     "text": [
      "100%|██████████| 118/118 [00:05<00:00, 20.90it/s]\n"
     ]
    },
    {
     "name": "stdout",
     "output_type": "stream",
     "text": [
      "Epoch [199/200] finished. Train Loss: 0.0008, Train Accuracy: 1.0000, Test Loss: 0.1419, Test Accuracy: 0.9731\n"
     ]
    },
    {
     "name": "stderr",
     "output_type": "stream",
     "text": [
      "100%|██████████| 118/118 [00:05<00:00, 20.76it/s]\n"
     ]
    },
    {
     "name": "stdout",
     "output_type": "stream",
     "text": [
      "Epoch [200/200] finished. Train Loss: 0.0007, Train Accuracy: 1.0000, Test Loss: 0.1448, Test Accuracy: 0.9729\n",
      "Final Training Accuracy per epoch: [0.3356, 0.55395, 0.57575, 0.6816166666666666, 0.73725, 0.80175, 0.8441, 0.8728333333333333, 0.89765, 0.8586166666666667, 0.9127166666666666, 0.9210833333333334, 0.93205, 0.9330166666666667, 0.94145, 0.9464666666666667, 0.94585, 0.9533333333333334, 0.9537833333333333, 0.9521666666666667, 0.9571166666666666, 0.9591333333333333, 0.96105, 0.9623833333333334, 0.96335, 0.96555, 0.9665, 0.9670166666666666, 0.9671333333333333, 0.9686, 0.9696333333333333, 0.9698833333333333, 0.9682666666666667, 0.97075, 0.9734166666666667, 0.9739, 0.97275, 0.9746833333333333, 0.9737333333333333, 0.9766166666666667, 0.9769333333333333, 0.9769166666666667, 0.9777333333333333, 0.9773833333333334, 0.9777166666666667, 0.9796, 0.9825, 0.9786, 0.9791666666666666, 0.9811, 0.9814833333333334, 0.9843333333333333, 0.9821, 0.9797666666666667, 0.98195, 0.98405, 0.9854333333333334, 0.9693166666666667, 0.9802333333333333, 0.9852, 0.9884, 0.9844333333333334, 0.9866833333333334, 0.98525, 0.9883, 0.9865333333333334, 0.9876833333333334, 0.9866333333333334, 0.99065, 0.9862333333333333, 0.9853333333333333, 0.9889, 0.98915, 0.9910166666666667, 0.98815, 0.9888, 0.9894166666666667, 0.9932833333333333, 0.9937, 0.9699, 0.98595, 0.9917666666666667, 0.9927, 0.99345, 0.9955833333333334, 0.99405, 0.9953666666666666, 0.9943333333333333, 0.9892833333333333, 0.98815, 0.98845, 0.99635, 0.9957, 0.9947666666666667, 0.99375, 0.9904833333333334, 0.9868166666666667, 0.9953, 0.9956, 0.9948666666666667, 0.9961333333333333, 0.99705, 0.9914166666666666, 0.9884333333333334, 0.9914833333333334, 0.9958333333333333, 0.9936, 0.9937166666666667, 0.99175, 0.9922166666666666, 0.9828166666666667, 0.9931833333333333, 0.9964333333333333, 0.9982666666666666, 0.9917, 0.99445, 0.9961833333333333, 0.9976, 0.9986, 0.9994666666666666, 0.99535, 0.96615, 0.9856166666666667, 0.9948666666666667, 0.9977666666666667, 0.9985666666666667, 0.9995333333333334, 0.9996833333333334, 0.9999, 0.9999166666666667, 0.9999333333333333, 0.99995, 0.99995, 0.99995, 0.99995, 0.9999666666666667, 0.9999666666666667, 0.9999666666666667, 0.9999666666666667, 0.9999666666666667, 0.93855, 0.9657666666666667, 0.9862666666666666, 0.9926666666666667, 0.9966333333333334, 0.99745, 0.9988166666666667, 0.9994166666666666, 0.99985, 0.9999166666666667, 0.9999666666666667, 0.9999333333333333, 0.9999666666666667, 0.9999666666666667, 0.9999833333333333, 0.9999666666666667, 0.9999666666666667, 0.9999833333333333, 0.9999833333333333, 0.9999833333333333, 0.9999833333333333, 0.9999833333333333, 1.0, 1.0, 1.0, 1.0, 1.0, 1.0, 1.0, 1.0, 1.0, 1.0, 1.0, 1.0, 1.0, 1.0, 1.0, 1.0, 1.0, 1.0, 1.0, 1.0, 0.9273, 0.97945, 0.98885, 0.9920833333333333, 0.99465, 0.99505, 0.9958666666666667, 0.9977333333333334, 0.9992333333333333, 0.99715, 0.9966166666666667, 0.9984833333333333, 0.9993666666666666, 0.9998833333333333, 0.99995, 1.0, 0.9999833333333333, 1.0]\n",
      "Final Training Loss per epoch: [1.8162417585372925, 1.2689653487841288, 1.222767204729716, 0.9260441262880961, 0.7778530727386475, 0.618664673169454, 0.48830523165067036, 0.40060997405052184, 0.32180939044952395, 0.4503159606774648, 0.2780777983983358, 0.250351251133283, 0.21713554445902505, 0.21391365860303244, 0.1873923671722412, 0.1719692537943522, 0.17332135121822356, 0.15173965098063152, 0.1480911919116974, 0.15295083147684732, 0.1378585599819819, 0.13111529273986816, 0.12433504875500997, 0.12048356582919757, 0.11635512621005376, 0.10992093501488368, 0.10546494903961817, 0.10558930544455847, 0.10332122556765874, 0.10148672325611115, 0.09487781259616217, 0.09375647928317388, 0.10036314777135849, 0.09262794352769851, 0.0833485401948293, 0.08182704000473022, 0.08607820495764415, 0.08029555906852086, 0.08188891716400783, 0.07371828975081444, 0.07118306359052658, 0.07245636431376139, 0.06829671370188395, 0.06932639544010162, 0.07006616794069608, 0.06295424657066663, 0.054866653841733934, 0.06650384075840314, 0.0628942446788152, 0.05668986484408379, 0.05813843704064687, 0.04906296886603038, 0.05487036120494207, 0.060566734308004376, 0.05447194102307161, 0.0496808321694533, 0.04444388930400213, 0.0945029851992925, 0.06189894492228826, 0.045561007656653725, 0.03770758188863595, 0.047094239497184755, 0.04080529862443606, 0.04591268336574236, 0.037537956583499905, 0.040246472053726515, 0.0374605663339297, 0.04030910414258639, 0.030539275973041853, 0.04185088829596837, 0.046423511402805644, 0.03403650165001551, 0.03336377516885598, 0.027773631124695143, 0.03578923794974884, 0.0349153383731842, 0.03213412211115162, 0.021462054579456647, 0.021163551554083823, 0.09820750161806742, 0.04354887538353602, 0.02582979893287023, 0.023336518371105196, 0.02230733919243018, 0.01543409628768762, 0.01964416754792134, 0.015858045846223832, 0.018751640635480484, 0.0315807139635086, 0.03676470104455948, 0.03576784537509084, 0.0136920224763453, 0.015169367006296912, 0.016906867618858814, 0.020508829585711163, 0.028485563838481904, 0.03978084765523672, 0.016280789030591648, 0.014212642018000285, 0.017289115754018227, 0.013240261282771826, 0.010265815231204033, 0.02678680880665779, 0.03645579656859239, 0.027479235768318178, 0.014755135200421016, 0.020205718893309434, 0.01990330850481987, 0.025888072671492894, 0.0247762796719869, 0.053293224958578744, 0.021399509010526042, 0.012246912422279517, 0.008022163125872612, 0.02530833538249135, 0.01704512425462405, 0.01354473041916887, 0.008551237094402314, 0.0058674834076625606, 0.003770870681355397, 0.01585620871844391, 0.12692186001141867, 0.043756208791335426, 0.01659127711256345, 0.00962331079641978, 0.0066021878749132155, 0.004435732820257545, 0.0033024139747023585, 0.002197319175551335, 0.0018228299452923238, 0.0015207704859164853, 0.0013537642163224518, 0.0011747210857768853, 0.0010574101833937069, 0.0009606422861417135, 0.0009014404279800753, 0.0008030968714971095, 0.0007638939177927872, 0.0006949551802749435, 0.0006268534445514281, 0.28741374422485627, 0.11032333875695864, 0.041498487892498576, 0.02344031744500001, 0.013057838614781698, 0.011273197414850195, 0.006916445218895872, 0.004851282402127981, 0.0033828205660916865, 0.0025604409905150534, 0.002078253494948149, 0.001905213089628766, 0.0016098523648145299, 0.0014747014158715804, 0.0012928573716431855, 0.0012337291756023964, 0.0010610976053401827, 0.0009492146585602313, 0.0008675529484326641, 0.0007965108558535576, 0.0007395489931106568, 0.0006919186576735229, 0.000623616274446249, 0.0005794839388070007, 0.000535766228614375, 0.0004977688414626755, 0.00045152497896924613, 0.00042049452246477206, 0.0003895927175297402, 0.0003639780242034855, 0.0003399261132425939, 0.0003132824564818293, 0.00029274028142293296, 0.00027591617836927374, 0.00026049311272605943, 0.00024262992066796869, 0.00022540061673304688, 0.00021130552406733235, 0.00019516947565134614, 0.000181434813933447, 0.00017298684288204338, 0.00015837409103987738, 0.30209110202845185, 0.06526844804485639, 0.034888863682746886, 0.0253482374360164, 0.01809401388367017, 0.016151278969521322, 0.014283731558422247, 0.008344196530679861, 0.004546677180503805, 0.010068953790515662, 0.011143756712973117, 0.0066630281681815786, 0.0038789768000443777, 0.002085984152617554, 0.0013691841832672556, 0.0008933340126958987, 0.0007698433304205536, 0.0006778802156991636]\n",
      "Final Test Accuracy per epoch: [0.4351, 0.6147, 0.6453, 0.7041, 0.7754, 0.8307, 0.8639, 0.8829, 0.6241, 0.9177, 0.9156, 0.9342, 0.9273, 0.9305, 0.9445, 0.9391, 0.9481, 0.9462, 0.9483, 0.9523, 0.9494, 0.9483, 0.9557, 0.9535, 0.9571, 0.9597, 0.9616, 0.9615, 0.9489, 0.9566, 0.9561, 0.9584, 0.9562, 0.9624, 0.9605, 0.9619, 0.9638, 0.9618, 0.9642, 0.9632, 0.966, 0.9639, 0.9623, 0.9625, 0.9635, 0.9664, 0.9684, 0.9644, 0.9655, 0.9628, 0.9659, 0.9638, 0.9655, 0.9636, 0.9641, 0.9659, 0.9664, 0.9587, 0.9689, 0.9678, 0.9614, 0.9667, 0.9683, 0.9639, 0.9659, 0.9682, 0.966, 0.9664, 0.9664, 0.9627, 0.9686, 0.9694, 0.9709, 0.9618, 0.9665, 0.9669, 0.9689, 0.9696, 0.9676, 0.9615, 0.9684, 0.9678, 0.9666, 0.9696, 0.9676, 0.9702, 0.9681, 0.9669, 0.9572, 0.9676, 0.9691, 0.9692, 0.962, 0.969, 0.9635, 0.9598, 0.9668, 0.9685, 0.9696, 0.9668, 0.9678, 0.9662, 0.9672, 0.9672, 0.968, 0.9711, 0.9668, 0.9672, 0.9665, 0.9607, 0.9691, 0.9669, 0.9712, 0.9703, 0.9665, 0.9664, 0.9704, 0.9699, 0.9704, 0.9701, 0.9616, 0.9543, 0.9675, 0.9698, 0.9693, 0.9697, 0.9714, 0.9706, 0.9706, 0.9706, 0.9717, 0.9716, 0.9715, 0.9721, 0.971, 0.971, 0.9709, 0.9711, 0.9709, 0.9714, 0.9033, 0.9666, 0.9679, 0.969, 0.9708, 0.9702, 0.9711, 0.9716, 0.9714, 0.972, 0.9721, 0.9713, 0.9723, 0.9726, 0.9722, 0.9721, 0.9711, 0.9718, 0.9714, 0.9716, 0.9718, 0.9716, 0.9718, 0.9713, 0.9719, 0.9716, 0.9715, 0.9718, 0.9718, 0.9714, 0.9715, 0.9716, 0.9708, 0.9715, 0.9713, 0.9714, 0.9717, 0.9707, 0.9716, 0.9705, 0.9714, 0.9713, 0.9604, 0.9691, 0.9687, 0.9709, 0.9708, 0.9681, 0.9696, 0.9722, 0.9715, 0.9709, 0.9722, 0.9726, 0.9728, 0.9714, 0.9729, 0.9725, 0.9731, 0.9729]\n",
      "Final Test Loss per epoch: [1.5305069038391113, 1.0777160472869873, 1.0276855539321899, 0.8416148497581482, 0.665252478313446, 0.5335912027359009, 0.4240798186302185, 0.3606884473800659, 1.3586717962265014, 0.26621244463920596, 0.26821384544372556, 0.21266711206436156, 0.23587223081588746, 0.22309515743255615, 0.18443558628559112, 0.2080481999874115, 0.17018703520298004, 0.17287351708412171, 0.17170993411540986, 0.15607943947315217, 0.16993591668605804, 0.17258351554870605, 0.14782124879360198, 0.15224269437789917, 0.14636860656738282, 0.13164968547821046, 0.12793505132198335, 0.12380767860412598, 0.18037123165130614, 0.14528640837669374, 0.14043687760829926, 0.14469152555465697, 0.14616911907196045, 0.12392768785953522, 0.1332740963935852, 0.12747680537700654, 0.12402928469181061, 0.1276825966358185, 0.11745741319656372, 0.12456781470775605, 0.11665315270423889, 0.12527267842292786, 0.13411538767814637, 0.12824666731357576, 0.127746932721138, 0.11388574018478394, 0.11563419353961944, 0.1257022621870041, 0.11829199403524399, 0.13221206126213073, 0.11686315194368363, 0.13067203860282897, 0.11036182718276978, 0.12682783975601197, 0.12866947900056838, 0.11927043693065643, 0.12117780319452286, 0.141618674659729, 0.1121486065864563, 0.11507258538007736, 0.13114185812473297, 0.11943547854423522, 0.11037138013839722, 0.12417418074607849, 0.12338370107412339, 0.11367053873538971, 0.12018262894153595, 0.12878910281658174, 0.13369541206359864, 0.13964607083797456, 0.11950957423448563, 0.11981576595306397, 0.1100061132311821, 0.148394837474823, 0.12683501720428467, 0.12123203723430634, 0.11594613292217254, 0.12459291958808899, 0.12436891946792603, 0.14122855608463286, 0.12205013246536255, 0.12063051664829254, 0.1295814281463623, 0.123561179625988, 0.13712317543029784, 0.1225219253540039, 0.1306465439081192, 0.12898745989799498, 0.17714670143127442, 0.12321891260147094, 0.11995998888015746, 0.11977053480148316, 0.16706219639778136, 0.13409524257183075, 0.15488420703411102, 0.1710847995042801, 0.1314329451084137, 0.12879134311676024, 0.13028072912693023, 0.1442915527820587, 0.13703629820346833, 0.1546718117237091, 0.14759753756523133, 0.1255741091966629, 0.1287762894630432, 0.12945209367275237, 0.1400849723815918, 0.13964477019309998, 0.14135615725517273, 0.17504626722335814, 0.12287035994529724, 0.13678709871768951, 0.12733677456378936, 0.13340800864696503, 0.14868369064331055, 0.1554832369327545, 0.13376241314411164, 0.13389298133850097, 0.1325190611243248, 0.1392596729040146, 0.17308382244110107, 0.1662741178512573, 0.1321639061689377, 0.1251968407392502, 0.13085563430786132, 0.12864756860733031, 0.13150585560798644, 0.13175124770998956, 0.13097865432500838, 0.13428471507430076, 0.13785944412946702, 0.14211257222890855, 0.14394116085767747, 0.14580739612579346, 0.14721576343774795, 0.14975347321629523, 0.15090900138616561, 0.15329256350398063, 0.15467790515422822, 0.15640205845832825, 0.3791394210338592, 0.12484801759719849, 0.12131097776889802, 0.12217333762645721, 0.12437471616268157, 0.1318350358247757, 0.12881818368434905, 0.13353356347084044, 0.13739243977069854, 0.136917502450943, 0.14157364151477814, 0.13991343605518342, 0.14384933273792266, 0.14629976885318757, 0.14832206284999847, 0.15137724945545197, 0.1516766713142395, 0.15441963415145873, 0.15522318279743194, 0.15695775742530824, 0.15960734765529633, 0.16199747257232666, 0.16347713046073914, 0.16604741625785827, 0.1659811370372772, 0.1678009192466736, 0.1683895740032196, 0.17190766880512237, 0.173137211561203, 0.17337021470069885, 0.1752704678297043, 0.17735111615657806, 0.17964888184070588, 0.18067124745845795, 0.18283117296695708, 0.1830682363986969, 0.18325435740947724, 0.18515204672813415, 0.1883731524705887, 0.1896557391166687, 0.19053401181697846, 0.1925906141281128, 0.1458289689064026, 0.12226808640956878, 0.11784424451589584, 0.12064736642837524, 0.12587908823490143, 0.13150187106132508, 0.12780119636058807, 0.1305636958360672, 0.13676912207603453, 0.12903586773872375, 0.13719087374210356, 0.13578224782943726, 0.1333849979877472, 0.1370335816860199, 0.1374487109184265, 0.13934326016902923, 0.141933393907547, 0.14481473021507263]\n"
     ]
    }
   ],
   "source": [
    "device = torch.device(\"cuda\" if torch.cuda.is_available() else \"cpu\")\n",
    "\n",
    "model = LSTMClassifier(input_size=784, embedding_dim=32, hidden_dim=128, num_classes=10).to(device)\n",
    "criterion = nn.CrossEntropyLoss()\n",
    "optimizer = optim.Adam(model.parameters(), lr=1e-3)\n",
    "\n",
    "num_epochs = 200\n",
    "accuracy_per_epoch = []\n",
    "loss_per_epoch = []\n",
    "test_accuracy_per_epoch = []\n",
    "test_loss_per_epoch = []\n",
    "\n",
    "log_file = \"training_log_LeTE.csv\"\n",
    "if os.path.exists(log_file):\n",
    "    os.remove(log_file)\n",
    "\n",
    "with open(log_file, mode='w', newline='') as f:\n",
    "    writer = csv.writer(f)\n",
    "    writer.writerow([\"epoch\", \"train_loss\", \"train_accuracy\", \"test_loss\", \"test_accuracy\"])\n",
    "\n",
    "for epoch in range(num_epochs):\n",
    "    model.train()\n",
    "    total_loss = 0.0\n",
    "    total_correct = 0\n",
    "    total_samples = 0\n",
    "\n",
    "    # Training\n",
    "    for batch_idx, (padded_events, lengths, labels) in enumerate(tqdm(train_loader)):\n",
    "        padded_events = padded_events.float().to(device)\n",
    "        lengths = lengths.to(device)\n",
    "        labels = labels.to(device)\n",
    "\n",
    "        optimizer.zero_grad()\n",
    "        outputs = model(padded_events, lengths)\n",
    "        loss = criterion(outputs, labels)\n",
    "        loss.backward()\n",
    "        optimizer.step()\n",
    "\n",
    "        total_loss += loss.item() * labels.size(0)\n",
    "        preds = outputs.argmax(dim=1)\n",
    "        total_correct += (preds == labels).sum().item()\n",
    "        total_samples += labels.size(0)\n",
    "\n",
    "    avg_loss = total_loss / total_samples\n",
    "    acc = total_correct / total_samples\n",
    "    accuracy_per_epoch.append(acc)\n",
    "    loss_per_epoch.append(avg_loss)\n",
    "\n",
    "    # Testing\n",
    "    test_loss, test_acc = evaluate(model, test_loader, device, criterion)\n",
    "    test_accuracy_per_epoch.append(test_acc)\n",
    "    test_loss_per_epoch.append(test_loss)\n",
    "\n",
    "    print(f\"Epoch [{epoch+1}/{num_epochs}] finished. \"\n",
    "          f\"Train Loss: {avg_loss:.4f}, Train Accuracy: {acc:.4f}, \"\n",
    "          f\"Test Loss: {test_loss:.4f}, Test Accuracy: {test_acc:.4f}\")\n",
    "\n",
    "    # Save results to csvs\n",
    "    with open(log_file, mode='a', newline='') as f:\n",
    "        writer = csv.writer(f)\n",
    "        writer.writerow([epoch+1, avg_loss, acc, test_loss, test_acc])\n",
    "\n",
    "# Printing results\n",
    "print(\"Final Training Accuracy per epoch:\", accuracy_per_epoch)\n",
    "print(\"Final Training Loss per epoch:\", loss_per_epoch)\n",
    "print(\"Final Test Accuracy per epoch:\", test_accuracy_per_epoch)\n",
    "print(\"Final Test Loss per epoch:\", test_loss_per_epoch)"
   ]
  },
  {
   "cell_type": "code",
   "execution_count": null,
   "id": "77251f0a9e26da95",
   "metadata": {},
   "outputs": [],
   "source": []
  }
 ],
 "metadata": {
  "kernelspec": {
   "display_name": "tgl",
   "language": "python",
   "name": "python3"
  },
  "language_info": {
   "codemirror_mode": {
    "name": "ipython",
    "version": 3
   },
   "file_extension": ".py",
   "mimetype": "text/x-python",
   "name": "python",
   "nbconvert_exporter": "python",
   "pygments_lexer": "ipython3",
   "version": "3.11.5"
  }
 },
 "nbformat": 4,
 "nbformat_minor": 5
}
